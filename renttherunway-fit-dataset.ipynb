{
 "cells": [
  {
   "cell_type": "markdown",
   "metadata": {},
   "source": [
    "# Clothing fit dataset"
   ]
  },
  {
   "cell_type": "markdown",
   "metadata": {},
   "source": [
    "## Чтение данных"
   ]
  },
  {
   "cell_type": "code",
   "execution_count": 1,
   "metadata": {},
   "outputs": [],
   "source": [
    "import numpy as np\n",
    "import matplotlib.pyplot as plt\n",
    "import pandas as pd\n",
    "%matplotlib inline"
   ]
  },
  {
   "cell_type": "code",
   "execution_count": 3,
   "metadata": {},
   "outputs": [],
   "source": [
    "data = pd.read_json('renttherunway_final_data.json', lines=True)"
   ]
  },
  {
   "cell_type": "code",
   "execution_count": 4,
   "metadata": {},
   "outputs": [
    {
     "name": "stdout",
     "output_type": "stream",
     "text": [
      "Data RentTheRunWay shape:  (192544, 15)\n"
     ]
    }
   ],
   "source": [
    "print('Data RentTheRunWay shape: ', data.shape)"
   ]
  },
  {
   "cell_type": "code",
   "execution_count": 5,
   "metadata": {},
   "outputs": [],
   "source": [
    "data = data[['user_id', 'age', 'body type', 'weight', 'bust size', 'height', 'item_id', 'size', \n",
    "                       'category', 'rating', 'rented for', 'review_date', 'review_summary', 'review_text', 'fit']]\n",
    "data.columns = ['user_id', 'age', 'body_type', 'weight', 'bust_size', 'height', 'item_id', 'size', \n",
    "                'category', 'rating', 'rented_for', 'review_date', 'review_summary', 'review_text', 'fit']"
   ]
  },
  {
   "cell_type": "code",
   "execution_count": 6,
   "metadata": {},
   "outputs": [
    {
     "data": {
      "text/html": [
       "<div>\n",
       "<style scoped>\n",
       "    .dataframe tbody tr th:only-of-type {\n",
       "        vertical-align: middle;\n",
       "    }\n",
       "\n",
       "    .dataframe tbody tr th {\n",
       "        vertical-align: top;\n",
       "    }\n",
       "\n",
       "    .dataframe thead th {\n",
       "        text-align: right;\n",
       "    }\n",
       "</style>\n",
       "<table border=\"1\" class=\"dataframe\">\n",
       "  <thead>\n",
       "    <tr style=\"text-align: right;\">\n",
       "      <th></th>\n",
       "      <th>user_id</th>\n",
       "      <th>age</th>\n",
       "      <th>body_type</th>\n",
       "      <th>weight</th>\n",
       "      <th>bust_size</th>\n",
       "      <th>height</th>\n",
       "      <th>item_id</th>\n",
       "      <th>size</th>\n",
       "      <th>category</th>\n",
       "      <th>rating</th>\n",
       "      <th>rented_for</th>\n",
       "      <th>review_date</th>\n",
       "      <th>review_summary</th>\n",
       "      <th>review_text</th>\n",
       "      <th>fit</th>\n",
       "    </tr>\n",
       "  </thead>\n",
       "  <tbody>\n",
       "    <tr>\n",
       "      <th>0</th>\n",
       "      <td>420272</td>\n",
       "      <td>28.0</td>\n",
       "      <td>hourglass</td>\n",
       "      <td>137lbs</td>\n",
       "      <td>34d</td>\n",
       "      <td>5' 8\"</td>\n",
       "      <td>2260466</td>\n",
       "      <td>14</td>\n",
       "      <td>romper</td>\n",
       "      <td>10.0</td>\n",
       "      <td>vacation</td>\n",
       "      <td>April 20, 2016</td>\n",
       "      <td>So many compliments!</td>\n",
       "      <td>An adorable romper! Belt and zipper were a lit...</td>\n",
       "      <td>fit</td>\n",
       "    </tr>\n",
       "    <tr>\n",
       "      <th>1</th>\n",
       "      <td>273551</td>\n",
       "      <td>36.0</td>\n",
       "      <td>straight &amp; narrow</td>\n",
       "      <td>132lbs</td>\n",
       "      <td>34b</td>\n",
       "      <td>5' 6\"</td>\n",
       "      <td>153475</td>\n",
       "      <td>12</td>\n",
       "      <td>gown</td>\n",
       "      <td>10.0</td>\n",
       "      <td>other</td>\n",
       "      <td>June 18, 2013</td>\n",
       "      <td>I felt so glamourous!!!</td>\n",
       "      <td>I rented this dress for a photo shoot. The the...</td>\n",
       "      <td>fit</td>\n",
       "    </tr>\n",
       "    <tr>\n",
       "      <th>2</th>\n",
       "      <td>360448</td>\n",
       "      <td>116.0</td>\n",
       "      <td>NaN</td>\n",
       "      <td>NaN</td>\n",
       "      <td>NaN</td>\n",
       "      <td>5' 4\"</td>\n",
       "      <td>1063761</td>\n",
       "      <td>4</td>\n",
       "      <td>sheath</td>\n",
       "      <td>10.0</td>\n",
       "      <td>party</td>\n",
       "      <td>December 14, 2015</td>\n",
       "      <td>It was a great time to celebrate the (almost) ...</td>\n",
       "      <td>This hugged in all the right places! It was a ...</td>\n",
       "      <td>fit</td>\n",
       "    </tr>\n",
       "    <tr>\n",
       "      <th>3</th>\n",
       "      <td>909926</td>\n",
       "      <td>34.0</td>\n",
       "      <td>pear</td>\n",
       "      <td>135lbs</td>\n",
       "      <td>34c</td>\n",
       "      <td>5' 5\"</td>\n",
       "      <td>126335</td>\n",
       "      <td>8</td>\n",
       "      <td>dress</td>\n",
       "      <td>8.0</td>\n",
       "      <td>formal affair</td>\n",
       "      <td>February 12, 2014</td>\n",
       "      <td>Dress arrived on time and in perfect condition.</td>\n",
       "      <td>I rented this for my company's black tie award...</td>\n",
       "      <td>fit</td>\n",
       "    </tr>\n",
       "    <tr>\n",
       "      <th>4</th>\n",
       "      <td>151944</td>\n",
       "      <td>27.0</td>\n",
       "      <td>athletic</td>\n",
       "      <td>145lbs</td>\n",
       "      <td>34b</td>\n",
       "      <td>5' 9\"</td>\n",
       "      <td>616682</td>\n",
       "      <td>12</td>\n",
       "      <td>gown</td>\n",
       "      <td>10.0</td>\n",
       "      <td>wedding</td>\n",
       "      <td>September 26, 2016</td>\n",
       "      <td>Was in love with this dress !!!</td>\n",
       "      <td>I have always been petite in my upper body and...</td>\n",
       "      <td>fit</td>\n",
       "    </tr>\n",
       "  </tbody>\n",
       "</table>\n",
       "</div>"
      ],
      "text/plain": [
       "   user_id    age          body_type  weight bust_size height  item_id  size  \\\n",
       "0   420272   28.0          hourglass  137lbs       34d  5' 8\"  2260466    14   \n",
       "1   273551   36.0  straight & narrow  132lbs       34b  5' 6\"   153475    12   \n",
       "2   360448  116.0                NaN     NaN       NaN  5' 4\"  1063761     4   \n",
       "3   909926   34.0               pear  135lbs       34c  5' 5\"   126335     8   \n",
       "4   151944   27.0           athletic  145lbs       34b  5' 9\"   616682    12   \n",
       "\n",
       "  category  rating     rented_for         review_date  \\\n",
       "0   romper    10.0       vacation      April 20, 2016   \n",
       "1     gown    10.0          other       June 18, 2013   \n",
       "2   sheath    10.0          party   December 14, 2015   \n",
       "3    dress     8.0  formal affair   February 12, 2014   \n",
       "4     gown    10.0        wedding  September 26, 2016   \n",
       "\n",
       "                                      review_summary  \\\n",
       "0                               So many compliments!   \n",
       "1                            I felt so glamourous!!!   \n",
       "2  It was a great time to celebrate the (almost) ...   \n",
       "3   Dress arrived on time and in perfect condition.    \n",
       "4                    Was in love with this dress !!!   \n",
       "\n",
       "                                         review_text  fit  \n",
       "0  An adorable romper! Belt and zipper were a lit...  fit  \n",
       "1  I rented this dress for a photo shoot. The the...  fit  \n",
       "2  This hugged in all the right places! It was a ...  fit  \n",
       "3  I rented this for my company's black tie award...  fit  \n",
       "4  I have always been petite in my upper body and...  fit  "
      ]
     },
     "execution_count": 6,
     "metadata": {},
     "output_type": "execute_result"
    }
   ],
   "source": [
    "data.head()"
   ]
  },
  {
   "cell_type": "markdown",
   "metadata": {},
   "source": [
    "* __user_id__ - a unique id fot the customer\n",
    "* __age__ - age of the customer\n",
    "* __body type__ - body type of customer\n",
    "* __weight__ - weight measurement of customer\n",
    "* __bust size__ - bust measurement of customer\n",
    "* __height__ - height of the customer\n",
    "* __item_id__ - unique product id\n",
    "* __size__ - the standartized size of the product\n",
    "* __category__ - the category of product\n",
    "* __rating__ - rating for the product\n",
    "* __rented for__ - purpose clothing was rented for\n",
    "* __review_date__ - date when the review was written\n",
    "* __review_summary__ - summary of the review\n",
    "* __review_text__ - review given by the customer\n",
    "* __fit__ - fit feedback\n",
    "                      "
   ]
  },
  {
   "cell_type": "markdown",
   "metadata": {},
   "source": [
    "## Обработка имеющихся данных"
   ]
  },
  {
   "cell_type": "code",
   "execution_count": 7,
   "metadata": {},
   "outputs": [
    {
     "name": "stdout",
     "output_type": "stream",
     "text": [
      "<class 'pandas.core.frame.DataFrame'>\n",
      "RangeIndex: 192544 entries, 0 to 192543\n",
      "Data columns (total 15 columns):\n",
      "user_id           192544 non-null int64\n",
      "age               191584 non-null float64\n",
      "body_type         177907 non-null object\n",
      "weight            162562 non-null object\n",
      "bust_size         174133 non-null object\n",
      "height            191867 non-null object\n",
      "item_id           192544 non-null int64\n",
      "size              192544 non-null int64\n",
      "category          192544 non-null object\n",
      "rating            192462 non-null float64\n",
      "rented_for        192534 non-null object\n",
      "review_date       192544 non-null object\n",
      "review_summary    192544 non-null object\n",
      "review_text       192544 non-null object\n",
      "fit               192544 non-null object\n",
      "dtypes: float64(2), int64(3), object(10)\n",
      "memory usage: 22.0+ MB\n"
     ]
    }
   ],
   "source": [
    "data.info()"
   ]
  },
  {
   "cell_type": "markdown",
   "metadata": {},
   "source": [
    "\n",
    "> Для начала переведем столбцы `weight` и `height` в привычную систему мер и весов\n"
   ]
  },
  {
   "cell_type": "code",
   "execution_count": 8,
   "metadata": {},
   "outputs": [],
   "source": [
    "def lbs_to_kgs(x):\n",
    "    if type(x) == type(1.0):\n",
    "        return\n",
    "    try:\n",
    "        return (int(x[:-3]) * 0.454)\n",
    "    except:\n",
    "        return x\n",
    "    \n",
    "data.weight = data.weight.apply(lbs_to_kgs)"
   ]
  },
  {
   "cell_type": "code",
   "execution_count": 9,
   "metadata": {},
   "outputs": [],
   "source": [
    "def fts_to_cms(x):\n",
    "    if type(x) == type(1.0):\n",
    "        return\n",
    "    try:\n",
    "        return (int(x[0]) * 30.48 + int(x[3:-1]) * 2.54)\n",
    "    except:\n",
    "        return (int(x[0]) * 30.48)\n",
    "    \n",
    "data.height = data.height.apply(fts_to_cms)"
   ]
  },
  {
   "cell_type": "code",
   "execution_count": 10,
   "metadata": {},
   "outputs": [
    {
     "data": {
      "text/html": [
       "<div>\n",
       "<style scoped>\n",
       "    .dataframe tbody tr th:only-of-type {\n",
       "        vertical-align: middle;\n",
       "    }\n",
       "\n",
       "    .dataframe tbody tr th {\n",
       "        vertical-align: top;\n",
       "    }\n",
       "\n",
       "    .dataframe thead th {\n",
       "        text-align: right;\n",
       "    }\n",
       "</style>\n",
       "<table border=\"1\" class=\"dataframe\">\n",
       "  <thead>\n",
       "    <tr style=\"text-align: right;\">\n",
       "      <th></th>\n",
       "      <th>user_id</th>\n",
       "      <th>age</th>\n",
       "      <th>body_type</th>\n",
       "      <th>weight</th>\n",
       "      <th>bust_size</th>\n",
       "      <th>height</th>\n",
       "      <th>item_id</th>\n",
       "      <th>size</th>\n",
       "      <th>category</th>\n",
       "      <th>rating</th>\n",
       "      <th>rented_for</th>\n",
       "      <th>review_date</th>\n",
       "      <th>review_summary</th>\n",
       "      <th>review_text</th>\n",
       "      <th>fit</th>\n",
       "    </tr>\n",
       "  </thead>\n",
       "  <tbody>\n",
       "    <tr>\n",
       "      <th>0</th>\n",
       "      <td>420272</td>\n",
       "      <td>28.0</td>\n",
       "      <td>hourglass</td>\n",
       "      <td>62.198</td>\n",
       "      <td>34d</td>\n",
       "      <td>172.72</td>\n",
       "      <td>2260466</td>\n",
       "      <td>14</td>\n",
       "      <td>romper</td>\n",
       "      <td>10.0</td>\n",
       "      <td>vacation</td>\n",
       "      <td>April 20, 2016</td>\n",
       "      <td>So many compliments!</td>\n",
       "      <td>An adorable romper! Belt and zipper were a lit...</td>\n",
       "      <td>fit</td>\n",
       "    </tr>\n",
       "    <tr>\n",
       "      <th>1</th>\n",
       "      <td>273551</td>\n",
       "      <td>36.0</td>\n",
       "      <td>straight &amp; narrow</td>\n",
       "      <td>59.928</td>\n",
       "      <td>34b</td>\n",
       "      <td>167.64</td>\n",
       "      <td>153475</td>\n",
       "      <td>12</td>\n",
       "      <td>gown</td>\n",
       "      <td>10.0</td>\n",
       "      <td>other</td>\n",
       "      <td>June 18, 2013</td>\n",
       "      <td>I felt so glamourous!!!</td>\n",
       "      <td>I rented this dress for a photo shoot. The the...</td>\n",
       "      <td>fit</td>\n",
       "    </tr>\n",
       "    <tr>\n",
       "      <th>2</th>\n",
       "      <td>360448</td>\n",
       "      <td>116.0</td>\n",
       "      <td>NaN</td>\n",
       "      <td>NaN</td>\n",
       "      <td>NaN</td>\n",
       "      <td>162.56</td>\n",
       "      <td>1063761</td>\n",
       "      <td>4</td>\n",
       "      <td>sheath</td>\n",
       "      <td>10.0</td>\n",
       "      <td>party</td>\n",
       "      <td>December 14, 2015</td>\n",
       "      <td>It was a great time to celebrate the (almost) ...</td>\n",
       "      <td>This hugged in all the right places! It was a ...</td>\n",
       "      <td>fit</td>\n",
       "    </tr>\n",
       "    <tr>\n",
       "      <th>3</th>\n",
       "      <td>909926</td>\n",
       "      <td>34.0</td>\n",
       "      <td>pear</td>\n",
       "      <td>61.290</td>\n",
       "      <td>34c</td>\n",
       "      <td>165.10</td>\n",
       "      <td>126335</td>\n",
       "      <td>8</td>\n",
       "      <td>dress</td>\n",
       "      <td>8.0</td>\n",
       "      <td>formal affair</td>\n",
       "      <td>February 12, 2014</td>\n",
       "      <td>Dress arrived on time and in perfect condition.</td>\n",
       "      <td>I rented this for my company's black tie award...</td>\n",
       "      <td>fit</td>\n",
       "    </tr>\n",
       "    <tr>\n",
       "      <th>4</th>\n",
       "      <td>151944</td>\n",
       "      <td>27.0</td>\n",
       "      <td>athletic</td>\n",
       "      <td>65.830</td>\n",
       "      <td>34b</td>\n",
       "      <td>175.26</td>\n",
       "      <td>616682</td>\n",
       "      <td>12</td>\n",
       "      <td>gown</td>\n",
       "      <td>10.0</td>\n",
       "      <td>wedding</td>\n",
       "      <td>September 26, 2016</td>\n",
       "      <td>Was in love with this dress !!!</td>\n",
       "      <td>I have always been petite in my upper body and...</td>\n",
       "      <td>fit</td>\n",
       "    </tr>\n",
       "  </tbody>\n",
       "</table>\n",
       "</div>"
      ],
      "text/plain": [
       "   user_id    age          body_type  weight bust_size  height  item_id  size  \\\n",
       "0   420272   28.0          hourglass  62.198       34d  172.72  2260466    14   \n",
       "1   273551   36.0  straight & narrow  59.928       34b  167.64   153475    12   \n",
       "2   360448  116.0                NaN     NaN       NaN  162.56  1063761     4   \n",
       "3   909926   34.0               pear  61.290       34c  165.10   126335     8   \n",
       "4   151944   27.0           athletic  65.830       34b  175.26   616682    12   \n",
       "\n",
       "  category  rating     rented_for         review_date  \\\n",
       "0   romper    10.0       vacation      April 20, 2016   \n",
       "1     gown    10.0          other       June 18, 2013   \n",
       "2   sheath    10.0          party   December 14, 2015   \n",
       "3    dress     8.0  formal affair   February 12, 2014   \n",
       "4     gown    10.0        wedding  September 26, 2016   \n",
       "\n",
       "                                      review_summary  \\\n",
       "0                               So many compliments!   \n",
       "1                            I felt so glamourous!!!   \n",
       "2  It was a great time to celebrate the (almost) ...   \n",
       "3   Dress arrived on time and in perfect condition.    \n",
       "4                    Was in love with this dress !!!   \n",
       "\n",
       "                                         review_text  fit  \n",
       "0  An adorable romper! Belt and zipper were a lit...  fit  \n",
       "1  I rented this dress for a photo shoot. The the...  fit  \n",
       "2  This hugged in all the right places! It was a ...  fit  \n",
       "3  I rented this for my company's black tie award...  fit  \n",
       "4  I have always been petite in my upper body and...  fit  "
      ]
     },
     "execution_count": 10,
     "metadata": {},
     "output_type": "execute_result"
    }
   ],
   "source": [
    "data.head()"
   ]
  },
  {
   "cell_type": "code",
   "execution_count": 11,
   "metadata": {},
   "outputs": [
    {
     "data": {
      "text/html": [
       "<div>\n",
       "<style scoped>\n",
       "    .dataframe tbody tr th:only-of-type {\n",
       "        vertical-align: middle;\n",
       "    }\n",
       "\n",
       "    .dataframe tbody tr th {\n",
       "        vertical-align: top;\n",
       "    }\n",
       "\n",
       "    .dataframe thead th {\n",
       "        text-align: right;\n",
       "    }\n",
       "</style>\n",
       "<table border=\"1\" class=\"dataframe\">\n",
       "  <thead>\n",
       "    <tr style=\"text-align: right;\">\n",
       "      <th></th>\n",
       "      <th>user_id</th>\n",
       "      <th>age</th>\n",
       "      <th>weight</th>\n",
       "      <th>height</th>\n",
       "      <th>item_id</th>\n",
       "      <th>size</th>\n",
       "      <th>rating</th>\n",
       "    </tr>\n",
       "  </thead>\n",
       "  <tbody>\n",
       "    <tr>\n",
       "      <th>count</th>\n",
       "      <td>192544.000000</td>\n",
       "      <td>191584.000000</td>\n",
       "      <td>162562.000000</td>\n",
       "      <td>191867.000000</td>\n",
       "      <td>1.925440e+05</td>\n",
       "      <td>192544.000000</td>\n",
       "      <td>192462.000000</td>\n",
       "    </tr>\n",
       "    <tr>\n",
       "      <th>mean</th>\n",
       "      <td>499494.100149</td>\n",
       "      <td>33.871017</td>\n",
       "      <td>62.375836</td>\n",
       "      <td>165.888978</td>\n",
       "      <td>1.045684e+06</td>\n",
       "      <td>12.245175</td>\n",
       "      <td>9.092371</td>\n",
       "    </tr>\n",
       "    <tr>\n",
       "      <th>std</th>\n",
       "      <td>289059.719328</td>\n",
       "      <td>8.058083</td>\n",
       "      <td>9.942585</td>\n",
       "      <td>6.765239</td>\n",
       "      <td>8.053148e+05</td>\n",
       "      <td>8.494877</td>\n",
       "      <td>1.430044</td>\n",
       "    </tr>\n",
       "    <tr>\n",
       "      <th>min</th>\n",
       "      <td>9.000000</td>\n",
       "      <td>0.000000</td>\n",
       "      <td>22.700000</td>\n",
       "      <td>137.160000</td>\n",
       "      <td>1.233730e+05</td>\n",
       "      <td>0.000000</td>\n",
       "      <td>2.000000</td>\n",
       "    </tr>\n",
       "    <tr>\n",
       "      <th>25%</th>\n",
       "      <td>250654.250000</td>\n",
       "      <td>29.000000</td>\n",
       "      <td>55.842000</td>\n",
       "      <td>160.020000</td>\n",
       "      <td>1.950760e+05</td>\n",
       "      <td>8.000000</td>\n",
       "      <td>8.000000</td>\n",
       "    </tr>\n",
       "    <tr>\n",
       "      <th>50%</th>\n",
       "      <td>499419.000000</td>\n",
       "      <td>32.000000</td>\n",
       "      <td>61.290000</td>\n",
       "      <td>165.100000</td>\n",
       "      <td>9.483960e+05</td>\n",
       "      <td>12.000000</td>\n",
       "      <td>10.000000</td>\n",
       "    </tr>\n",
       "    <tr>\n",
       "      <th>75%</th>\n",
       "      <td>750974.000000</td>\n",
       "      <td>37.000000</td>\n",
       "      <td>67.192000</td>\n",
       "      <td>170.180000</td>\n",
       "      <td>1.678888e+06</td>\n",
       "      <td>16.000000</td>\n",
       "      <td>10.000000</td>\n",
       "    </tr>\n",
       "    <tr>\n",
       "      <th>max</th>\n",
       "      <td>999997.000000</td>\n",
       "      <td>117.000000</td>\n",
       "      <td>136.200000</td>\n",
       "      <td>198.120000</td>\n",
       "      <td>2.966087e+06</td>\n",
       "      <td>58.000000</td>\n",
       "      <td>10.000000</td>\n",
       "    </tr>\n",
       "  </tbody>\n",
       "</table>\n",
       "</div>"
      ],
      "text/plain": [
       "             user_id            age         weight         height  \\\n",
       "count  192544.000000  191584.000000  162562.000000  191867.000000   \n",
       "mean   499494.100149      33.871017      62.375836     165.888978   \n",
       "std    289059.719328       8.058083       9.942585       6.765239   \n",
       "min         9.000000       0.000000      22.700000     137.160000   \n",
       "25%    250654.250000      29.000000      55.842000     160.020000   \n",
       "50%    499419.000000      32.000000      61.290000     165.100000   \n",
       "75%    750974.000000      37.000000      67.192000     170.180000   \n",
       "max    999997.000000     117.000000     136.200000     198.120000   \n",
       "\n",
       "            item_id           size         rating  \n",
       "count  1.925440e+05  192544.000000  192462.000000  \n",
       "mean   1.045684e+06      12.245175       9.092371  \n",
       "std    8.053148e+05       8.494877       1.430044  \n",
       "min    1.233730e+05       0.000000       2.000000  \n",
       "25%    1.950760e+05       8.000000       8.000000  \n",
       "50%    9.483960e+05      12.000000      10.000000  \n",
       "75%    1.678888e+06      16.000000      10.000000  \n",
       "max    2.966087e+06      58.000000      10.000000  "
      ]
     },
     "execution_count": 11,
     "metadata": {},
     "output_type": "execute_result"
    }
   ],
   "source": [
    "data.describe()"
   ]
  },
  {
   "cell_type": "code",
   "execution_count": 12,
   "metadata": {
    "scrolled": true
   },
   "outputs": [
    {
     "data": {
      "text/html": [
       "<div>\n",
       "<style scoped>\n",
       "    .dataframe tbody tr th:only-of-type {\n",
       "        vertical-align: middle;\n",
       "    }\n",
       "\n",
       "    .dataframe tbody tr th {\n",
       "        vertical-align: top;\n",
       "    }\n",
       "\n",
       "    .dataframe thead th {\n",
       "        text-align: right;\n",
       "    }\n",
       "</style>\n",
       "<table border=\"1\" class=\"dataframe\">\n",
       "  <thead>\n",
       "    <tr style=\"text-align: right;\">\n",
       "      <th></th>\n",
       "      <th>body_type</th>\n",
       "      <th>bust_size</th>\n",
       "      <th>category</th>\n",
       "      <th>rented_for</th>\n",
       "      <th>review_date</th>\n",
       "      <th>review_summary</th>\n",
       "      <th>review_text</th>\n",
       "      <th>fit</th>\n",
       "    </tr>\n",
       "  </thead>\n",
       "  <tbody>\n",
       "    <tr>\n",
       "      <th>count</th>\n",
       "      <td>177907</td>\n",
       "      <td>174133</td>\n",
       "      <td>192544</td>\n",
       "      <td>192534</td>\n",
       "      <td>192544</td>\n",
       "      <td>192544</td>\n",
       "      <td>192544</td>\n",
       "      <td>192544</td>\n",
       "    </tr>\n",
       "    <tr>\n",
       "      <th>unique</th>\n",
       "      <td>7</td>\n",
       "      <td>106</td>\n",
       "      <td>68</td>\n",
       "      <td>9</td>\n",
       "      <td>2274</td>\n",
       "      <td>154740</td>\n",
       "      <td>191031</td>\n",
       "      <td>3</td>\n",
       "    </tr>\n",
       "    <tr>\n",
       "      <th>top</th>\n",
       "      <td>hourglass</td>\n",
       "      <td>34b</td>\n",
       "      <td>dress</td>\n",
       "      <td>wedding</td>\n",
       "      <td>June 15, 2016</td>\n",
       "      <td>Stylist Review</td>\n",
       "      <td>.</td>\n",
       "      <td>fit</td>\n",
       "    </tr>\n",
       "    <tr>\n",
       "      <th>freq</th>\n",
       "      <td>55349</td>\n",
       "      <td>27285</td>\n",
       "      <td>92884</td>\n",
       "      <td>57784</td>\n",
       "      <td>844</td>\n",
       "      <td>977</td>\n",
       "      <td>63</td>\n",
       "      <td>142058</td>\n",
       "    </tr>\n",
       "  </tbody>\n",
       "</table>\n",
       "</div>"
      ],
      "text/plain": [
       "        body_type bust_size category rented_for    review_date  \\\n",
       "count      177907    174133   192544     192534         192544   \n",
       "unique          7       106       68          9           2274   \n",
       "top     hourglass       34b    dress    wedding  June 15, 2016   \n",
       "freq        55349     27285    92884      57784            844   \n",
       "\n",
       "        review_summary review_text     fit  \n",
       "count           192544      192544  192544  \n",
       "unique          154740      191031       3  \n",
       "top     Stylist Review           .     fit  \n",
       "freq               977          63  142058  "
      ]
     },
     "execution_count": 12,
     "metadata": {},
     "output_type": "execute_result"
    }
   ],
   "source": [
    "data.describe(include = [object])"
   ]
  },
  {
   "cell_type": "markdown",
   "metadata": {},
   "source": [
    "> Столбец `bust_size` содержит много уникальных значений"
   ]
  },
  {
   "cell_type": "code",
   "execution_count": 13,
   "metadata": {},
   "outputs": [
    {
     "data": {
      "text/plain": [
       "array(['34d', '34b', nan, '34c', '32b', '34d+', '36d', '36a', '32d+',\n",
       "       '36c', '32c', '32dd', '30dd', '32d', '36b', '34a', '34dd',\n",
       "       '40ddd/e', '32a', '38d+', '38c', '34ddd/e', '38a', '38b', '38d',\n",
       "       '36ddd/e', '38dd', '38f', '42dd', '36dd', '40g', '40dd', '28f',\n",
       "       '30ddd/e', '32ddd/e', '28b', '36d+', '40d', '28dd', '34f', '42c',\n",
       "       '30d', '30b', '42d', '34aa', '32aa', '36f', '28c', '40b', '36aa',\n",
       "       '34g', '32f', '42ddd/e', '40c', '28g', '28aa', '36g', '30a',\n",
       "       '44ddd/e', '30c', '30aa', '44dd', '32i', '32g', '30g', '38h',\n",
       "       '30h', '34j', '38ddd/e', '32h', '28a', '44d', '40h', '38g', '34h',\n",
       "       '36j', '40f', '36h', '28ddd/e', '44f', '34i', '30f', '36i', '30i',\n",
       "       '28h', '42b', '42j', '32j', '46c', '48d', '38aa', '38i', '48dd',\n",
       "       '28d', '28i', '46ddd/e', '42g', '44c', '42f', '40j', '38j', '46f',\n",
       "       '44b', '44g', '42h', '40i', '44h'], dtype=object)"
      ]
     },
     "execution_count": 13,
     "metadata": {},
     "output_type": "execute_result"
    }
   ],
   "source": [
    "data['bust_size'].unique()"
   ]
  },
  {
   "cell_type": "markdown",
   "metadata": {},
   "source": [
    "> Данные можно разделить на два столбца: `bra_size` (число) и `cup_size` (буквы)"
   ]
  },
  {
   "cell_type": "code",
   "execution_count": 14,
   "metadata": {},
   "outputs": [],
   "source": [
    "data['bra_size'] = pd.to_numeric(data['bust_size'].str[:2])\n",
    "data['cup_size'] = data['bust_size'].str[2:]\n",
    "data = data.drop('bust_size', axis=1)\n",
    "data = data[['user_id', 'age', 'body_type', 'weight', 'bra_size', 'cup_size', 'height', 'item_id', 'size', \n",
    "             'category', 'rating', 'rented_for', 'review_date', 'review_summary', 'review_text', 'fit']]"
   ]
  },
  {
   "cell_type": "code",
   "execution_count": 15,
   "metadata": {},
   "outputs": [
    {
     "data": {
      "text/html": [
       "<div>\n",
       "<style scoped>\n",
       "    .dataframe tbody tr th:only-of-type {\n",
       "        vertical-align: middle;\n",
       "    }\n",
       "\n",
       "    .dataframe tbody tr th {\n",
       "        vertical-align: top;\n",
       "    }\n",
       "\n",
       "    .dataframe thead th {\n",
       "        text-align: right;\n",
       "    }\n",
       "</style>\n",
       "<table border=\"1\" class=\"dataframe\">\n",
       "  <thead>\n",
       "    <tr style=\"text-align: right;\">\n",
       "      <th></th>\n",
       "      <th>user_id</th>\n",
       "      <th>age</th>\n",
       "      <th>body_type</th>\n",
       "      <th>weight</th>\n",
       "      <th>bra_size</th>\n",
       "      <th>cup_size</th>\n",
       "      <th>height</th>\n",
       "      <th>item_id</th>\n",
       "      <th>size</th>\n",
       "      <th>category</th>\n",
       "      <th>rating</th>\n",
       "      <th>rented_for</th>\n",
       "      <th>review_date</th>\n",
       "      <th>review_summary</th>\n",
       "      <th>review_text</th>\n",
       "      <th>fit</th>\n",
       "    </tr>\n",
       "  </thead>\n",
       "  <tbody>\n",
       "    <tr>\n",
       "      <th>0</th>\n",
       "      <td>420272</td>\n",
       "      <td>28.0</td>\n",
       "      <td>hourglass</td>\n",
       "      <td>62.198</td>\n",
       "      <td>34.0</td>\n",
       "      <td>d</td>\n",
       "      <td>172.72</td>\n",
       "      <td>2260466</td>\n",
       "      <td>14</td>\n",
       "      <td>romper</td>\n",
       "      <td>10.0</td>\n",
       "      <td>vacation</td>\n",
       "      <td>April 20, 2016</td>\n",
       "      <td>So many compliments!</td>\n",
       "      <td>An adorable romper! Belt and zipper were a lit...</td>\n",
       "      <td>fit</td>\n",
       "    </tr>\n",
       "    <tr>\n",
       "      <th>1</th>\n",
       "      <td>273551</td>\n",
       "      <td>36.0</td>\n",
       "      <td>straight &amp; narrow</td>\n",
       "      <td>59.928</td>\n",
       "      <td>34.0</td>\n",
       "      <td>b</td>\n",
       "      <td>167.64</td>\n",
       "      <td>153475</td>\n",
       "      <td>12</td>\n",
       "      <td>gown</td>\n",
       "      <td>10.0</td>\n",
       "      <td>other</td>\n",
       "      <td>June 18, 2013</td>\n",
       "      <td>I felt so glamourous!!!</td>\n",
       "      <td>I rented this dress for a photo shoot. The the...</td>\n",
       "      <td>fit</td>\n",
       "    </tr>\n",
       "    <tr>\n",
       "      <th>2</th>\n",
       "      <td>360448</td>\n",
       "      <td>116.0</td>\n",
       "      <td>NaN</td>\n",
       "      <td>NaN</td>\n",
       "      <td>NaN</td>\n",
       "      <td>NaN</td>\n",
       "      <td>162.56</td>\n",
       "      <td>1063761</td>\n",
       "      <td>4</td>\n",
       "      <td>sheath</td>\n",
       "      <td>10.0</td>\n",
       "      <td>party</td>\n",
       "      <td>December 14, 2015</td>\n",
       "      <td>It was a great time to celebrate the (almost) ...</td>\n",
       "      <td>This hugged in all the right places! It was a ...</td>\n",
       "      <td>fit</td>\n",
       "    </tr>\n",
       "    <tr>\n",
       "      <th>3</th>\n",
       "      <td>909926</td>\n",
       "      <td>34.0</td>\n",
       "      <td>pear</td>\n",
       "      <td>61.290</td>\n",
       "      <td>34.0</td>\n",
       "      <td>c</td>\n",
       "      <td>165.10</td>\n",
       "      <td>126335</td>\n",
       "      <td>8</td>\n",
       "      <td>dress</td>\n",
       "      <td>8.0</td>\n",
       "      <td>formal affair</td>\n",
       "      <td>February 12, 2014</td>\n",
       "      <td>Dress arrived on time and in perfect condition.</td>\n",
       "      <td>I rented this for my company's black tie award...</td>\n",
       "      <td>fit</td>\n",
       "    </tr>\n",
       "    <tr>\n",
       "      <th>4</th>\n",
       "      <td>151944</td>\n",
       "      <td>27.0</td>\n",
       "      <td>athletic</td>\n",
       "      <td>65.830</td>\n",
       "      <td>34.0</td>\n",
       "      <td>b</td>\n",
       "      <td>175.26</td>\n",
       "      <td>616682</td>\n",
       "      <td>12</td>\n",
       "      <td>gown</td>\n",
       "      <td>10.0</td>\n",
       "      <td>wedding</td>\n",
       "      <td>September 26, 2016</td>\n",
       "      <td>Was in love with this dress !!!</td>\n",
       "      <td>I have always been petite in my upper body and...</td>\n",
       "      <td>fit</td>\n",
       "    </tr>\n",
       "  </tbody>\n",
       "</table>\n",
       "</div>"
      ],
      "text/plain": [
       "   user_id    age          body_type  weight  bra_size cup_size  height  \\\n",
       "0   420272   28.0          hourglass  62.198      34.0        d  172.72   \n",
       "1   273551   36.0  straight & narrow  59.928      34.0        b  167.64   \n",
       "2   360448  116.0                NaN     NaN       NaN      NaN  162.56   \n",
       "3   909926   34.0               pear  61.290      34.0        c  165.10   \n",
       "4   151944   27.0           athletic  65.830      34.0        b  175.26   \n",
       "\n",
       "   item_id  size category  rating     rented_for         review_date  \\\n",
       "0  2260466    14   romper    10.0       vacation      April 20, 2016   \n",
       "1   153475    12     gown    10.0          other       June 18, 2013   \n",
       "2  1063761     4   sheath    10.0          party   December 14, 2015   \n",
       "3   126335     8    dress     8.0  formal affair   February 12, 2014   \n",
       "4   616682    12     gown    10.0        wedding  September 26, 2016   \n",
       "\n",
       "                                      review_summary  \\\n",
       "0                               So many compliments!   \n",
       "1                            I felt so glamourous!!!   \n",
       "2  It was a great time to celebrate the (almost) ...   \n",
       "3   Dress arrived on time and in perfect condition.    \n",
       "4                    Was in love with this dress !!!   \n",
       "\n",
       "                                         review_text  fit  \n",
       "0  An adorable romper! Belt and zipper were a lit...  fit  \n",
       "1  I rented this dress for a photo shoot. The the...  fit  \n",
       "2  This hugged in all the right places! It was a ...  fit  \n",
       "3  I rented this for my company's black tie award...  fit  \n",
       "4  I have always been petite in my upper body and...  fit  "
      ]
     },
     "execution_count": 15,
     "metadata": {},
     "output_type": "execute_result"
    }
   ],
   "source": [
    "data.head()"
   ]
  },
  {
   "cell_type": "code",
   "execution_count": 16,
   "metadata": {},
   "outputs": [
    {
     "data": {
      "text/html": [
       "<div>\n",
       "<style scoped>\n",
       "    .dataframe tbody tr th:only-of-type {\n",
       "        vertical-align: middle;\n",
       "    }\n",
       "\n",
       "    .dataframe tbody tr th {\n",
       "        vertical-align: top;\n",
       "    }\n",
       "\n",
       "    .dataframe thead th {\n",
       "        text-align: right;\n",
       "    }\n",
       "</style>\n",
       "<table border=\"1\" class=\"dataframe\">\n",
       "  <thead>\n",
       "    <tr style=\"text-align: right;\">\n",
       "      <th></th>\n",
       "      <th>body_type</th>\n",
       "      <th>cup_size</th>\n",
       "      <th>category</th>\n",
       "      <th>rented_for</th>\n",
       "      <th>review_date</th>\n",
       "      <th>review_summary</th>\n",
       "      <th>review_text</th>\n",
       "      <th>fit</th>\n",
       "    </tr>\n",
       "  </thead>\n",
       "  <tbody>\n",
       "    <tr>\n",
       "      <th>count</th>\n",
       "      <td>177907</td>\n",
       "      <td>174133</td>\n",
       "      <td>192544</td>\n",
       "      <td>192534</td>\n",
       "      <td>192544</td>\n",
       "      <td>192544</td>\n",
       "      <td>192544</td>\n",
       "      <td>192544</td>\n",
       "    </tr>\n",
       "    <tr>\n",
       "      <th>unique</th>\n",
       "      <td>7</td>\n",
       "      <td>13</td>\n",
       "      <td>68</td>\n",
       "      <td>9</td>\n",
       "      <td>2274</td>\n",
       "      <td>154740</td>\n",
       "      <td>191031</td>\n",
       "      <td>3</td>\n",
       "    </tr>\n",
       "    <tr>\n",
       "      <th>top</th>\n",
       "      <td>hourglass</td>\n",
       "      <td>c</td>\n",
       "      <td>dress</td>\n",
       "      <td>wedding</td>\n",
       "      <td>June 15, 2016</td>\n",
       "      <td>Stylist Review</td>\n",
       "      <td>.</td>\n",
       "      <td>fit</td>\n",
       "    </tr>\n",
       "    <tr>\n",
       "      <th>freq</th>\n",
       "      <td>55349</td>\n",
       "      <td>49634</td>\n",
       "      <td>92884</td>\n",
       "      <td>57784</td>\n",
       "      <td>844</td>\n",
       "      <td>977</td>\n",
       "      <td>63</td>\n",
       "      <td>142058</td>\n",
       "    </tr>\n",
       "  </tbody>\n",
       "</table>\n",
       "</div>"
      ],
      "text/plain": [
       "        body_type cup_size category rented_for    review_date  review_summary  \\\n",
       "count      177907   174133   192544     192534         192544          192544   \n",
       "unique          7       13       68          9           2274          154740   \n",
       "top     hourglass        c    dress    wedding  June 15, 2016  Stylist Review   \n",
       "freq        55349    49634    92884      57784            844             977   \n",
       "\n",
       "       review_text     fit  \n",
       "count       192544  192544  \n",
       "unique      191031       3  \n",
       "top              .     fit  \n",
       "freq            63  142058  "
      ]
     },
     "execution_count": 16,
     "metadata": {},
     "output_type": "execute_result"
    }
   ],
   "source": [
    "data.describe(include = [object])"
   ]
  },
  {
   "cell_type": "code",
   "execution_count": 17,
   "metadata": {},
   "outputs": [
    {
     "data": {
      "text/plain": [
       "array(['romper', 'gown', 'sheath', 'dress', 'leggings', 'top', 'jumpsuit',\n",
       "       'sweater', 'jacket', 'shirtdress', 'maxi', 'shift', 'pants',\n",
       "       'shirt', 'mini', 'skirt', 'pullover', 'blouse', 'suit', 'coat',\n",
       "       'trench', 'bomber', 'cape', 'blazer', 'vest', 'duster', 'ballgown',\n",
       "       'tank', 'poncho', 'frock', 'tunic', 'cardigan', 'culottes', 'down',\n",
       "       'trouser', 'midi', 'pant', 'legging', 'print', 'knit', 'culotte',\n",
       "       'sweatshirt', 'peacoat', 'kaftan', 'overalls', 'jogger', 'tee',\n",
       "       'combo', 'henley', 'cami', 'blouson', 'turtleneck', 'trousers',\n",
       "       'overcoat', 'hoodie', 't-shirt', 'caftan', 'tight', 'kimono',\n",
       "       'for', 'crewneck', 'skirts', 'parka', 'buttondown', 'skort',\n",
       "       'sweatershirt', 'sweatpants', 'jeans'], dtype=object)"
      ]
     },
     "execution_count": 17,
     "metadata": {},
     "output_type": "execute_result"
    }
   ],
   "source": [
    "data['category'].unique()"
   ]
  },
  {
   "cell_type": "markdown",
   "metadata": {},
   "source": [
    "> Столбец `category` тоже содержит много уникальных значений, но единственное, что можно сделать - удалить его"
   ]
  },
  {
   "cell_type": "code",
   "execution_count": 18,
   "metadata": {},
   "outputs": [
    {
     "data": {
      "text/html": [
       "<div>\n",
       "<style scoped>\n",
       "    .dataframe tbody tr th:only-of-type {\n",
       "        vertical-align: middle;\n",
       "    }\n",
       "\n",
       "    .dataframe tbody tr th {\n",
       "        vertical-align: top;\n",
       "    }\n",
       "\n",
       "    .dataframe thead th {\n",
       "        text-align: right;\n",
       "    }\n",
       "</style>\n",
       "<table border=\"1\" class=\"dataframe\">\n",
       "  <thead>\n",
       "    <tr style=\"text-align: right;\">\n",
       "      <th></th>\n",
       "      <th>user_id</th>\n",
       "      <th>age</th>\n",
       "      <th>weight</th>\n",
       "      <th>bra_size</th>\n",
       "      <th>height</th>\n",
       "      <th>item_id</th>\n",
       "      <th>size</th>\n",
       "      <th>rating</th>\n",
       "    </tr>\n",
       "  </thead>\n",
       "  <tbody>\n",
       "    <tr>\n",
       "      <th>user_id</th>\n",
       "      <td>1.000000</td>\n",
       "      <td>0.007424</td>\n",
       "      <td>0.000473</td>\n",
       "      <td>0.005144</td>\n",
       "      <td>-0.009237</td>\n",
       "      <td>-0.002721</td>\n",
       "      <td>0.003442</td>\n",
       "      <td>-0.006973</td>\n",
       "    </tr>\n",
       "    <tr>\n",
       "      <th>age</th>\n",
       "      <td>0.007424</td>\n",
       "      <td>1.000000</td>\n",
       "      <td>0.066194</td>\n",
       "      <td>0.171436</td>\n",
       "      <td>-0.007465</td>\n",
       "      <td>0.026516</td>\n",
       "      <td>0.155687</td>\n",
       "      <td>-0.035280</td>\n",
       "    </tr>\n",
       "    <tr>\n",
       "      <th>weight</th>\n",
       "      <td>0.000473</td>\n",
       "      <td>0.066194</td>\n",
       "      <td>1.000000</td>\n",
       "      <td>0.642023</td>\n",
       "      <td>0.383784</td>\n",
       "      <td>-0.035320</td>\n",
       "      <td>0.850962</td>\n",
       "      <td>-0.022494</td>\n",
       "    </tr>\n",
       "    <tr>\n",
       "      <th>bra_size</th>\n",
       "      <td>0.005144</td>\n",
       "      <td>0.171436</td>\n",
       "      <td>0.642023</td>\n",
       "      <td>1.000000</td>\n",
       "      <td>0.156607</td>\n",
       "      <td>-0.051760</td>\n",
       "      <td>0.660161</td>\n",
       "      <td>-0.019586</td>\n",
       "    </tr>\n",
       "    <tr>\n",
       "      <th>height</th>\n",
       "      <td>-0.009237</td>\n",
       "      <td>-0.007465</td>\n",
       "      <td>0.383784</td>\n",
       "      <td>0.156607</td>\n",
       "      <td>1.000000</td>\n",
       "      <td>0.004690</td>\n",
       "      <td>0.228875</td>\n",
       "      <td>0.001746</td>\n",
       "    </tr>\n",
       "    <tr>\n",
       "      <th>item_id</th>\n",
       "      <td>-0.002721</td>\n",
       "      <td>0.026516</td>\n",
       "      <td>-0.035320</td>\n",
       "      <td>-0.051760</td>\n",
       "      <td>0.004690</td>\n",
       "      <td>1.000000</td>\n",
       "      <td>-0.044311</td>\n",
       "      <td>-0.001163</td>\n",
       "    </tr>\n",
       "    <tr>\n",
       "      <th>size</th>\n",
       "      <td>0.003442</td>\n",
       "      <td>0.155687</td>\n",
       "      <td>0.850962</td>\n",
       "      <td>0.660161</td>\n",
       "      <td>0.228875</td>\n",
       "      <td>-0.044311</td>\n",
       "      <td>1.000000</td>\n",
       "      <td>-0.036731</td>\n",
       "    </tr>\n",
       "    <tr>\n",
       "      <th>rating</th>\n",
       "      <td>-0.006973</td>\n",
       "      <td>-0.035280</td>\n",
       "      <td>-0.022494</td>\n",
       "      <td>-0.019586</td>\n",
       "      <td>0.001746</td>\n",
       "      <td>-0.001163</td>\n",
       "      <td>-0.036731</td>\n",
       "      <td>1.000000</td>\n",
       "    </tr>\n",
       "  </tbody>\n",
       "</table>\n",
       "</div>"
      ],
      "text/plain": [
       "           user_id       age    weight  bra_size    height   item_id  \\\n",
       "user_id   1.000000  0.007424  0.000473  0.005144 -0.009237 -0.002721   \n",
       "age       0.007424  1.000000  0.066194  0.171436 -0.007465  0.026516   \n",
       "weight    0.000473  0.066194  1.000000  0.642023  0.383784 -0.035320   \n",
       "bra_size  0.005144  0.171436  0.642023  1.000000  0.156607 -0.051760   \n",
       "height   -0.009237 -0.007465  0.383784  0.156607  1.000000  0.004690   \n",
       "item_id  -0.002721  0.026516 -0.035320 -0.051760  0.004690  1.000000   \n",
       "size      0.003442  0.155687  0.850962  0.660161  0.228875 -0.044311   \n",
       "rating   -0.006973 -0.035280 -0.022494 -0.019586  0.001746 -0.001163   \n",
       "\n",
       "              size    rating  \n",
       "user_id   0.003442 -0.006973  \n",
       "age       0.155687 -0.035280  \n",
       "weight    0.850962 -0.022494  \n",
       "bra_size  0.660161 -0.019586  \n",
       "height    0.228875  0.001746  \n",
       "item_id  -0.044311 -0.001163  \n",
       "size      1.000000 -0.036731  \n",
       "rating   -0.036731  1.000000  "
      ]
     },
     "execution_count": 18,
     "metadata": {},
     "output_type": "execute_result"
    }
   ],
   "source": [
    "data.corr()"
   ]
  },
  {
   "cell_type": "code",
   "execution_count": 19,
   "metadata": {},
   "outputs": [
    {
     "data": {
      "image/png": "[encoded data removed]",
      "text/plain": [
       "<Figure size 720x432 with 1 Axes>"
      ]
     },
     "metadata": {
      "needs_background": "light"
     },
     "output_type": "display_data"
    }
   ],
   "source": [
    "plt.figure(figsize = (10, 6))\n",
    "\n",
    "plt.scatter(data[data['fit'] == 'fit']['height'],\n",
    "            data[data['fit'] == 'fit']['weight'],\n",
    "            alpha = 0.15,\n",
    "            label = 'fit',\n",
    "            color = 'g')\n",
    "\n",
    "plt.scatter(data[data['fit'] == 'small']['height'],\n",
    "            data[data['fit'] == 'small']['weight'],\n",
    "            alpha = 0.1,\n",
    "            label = 'small',\n",
    "            color = 'r')\n",
    "\n",
    "plt.scatter(data[data['fit'] == 'large']['height'],\n",
    "            data[data['fit'] == 'large']['weight'],\n",
    "            alpha = 0.05,\n",
    "            label = 'large',\n",
    "            color = 'b')\n",
    "\n",
    "plt.xlabel('height')\n",
    "plt.ylabel('weight')\n",
    "plt.legend()\n",
    "plt.grid()"
   ]
  },
  {
   "cell_type": "markdown",
   "metadata": {},
   "source": [
    "## Обработка пропущенных значений"
   ]
  },
  {
   "cell_type": "code",
   "execution_count": 20,
   "metadata": {},
   "outputs": [
    {
     "data": {
      "text/html": [
       "<div>\n",
       "<style scoped>\n",
       "    .dataframe tbody tr th:only-of-type {\n",
       "        vertical-align: middle;\n",
       "    }\n",
       "\n",
       "    .dataframe tbody tr th {\n",
       "        vertical-align: top;\n",
       "    }\n",
       "\n",
       "    .dataframe thead th {\n",
       "        text-align: right;\n",
       "    }\n",
       "</style>\n",
       "<table border=\"1\" class=\"dataframe\">\n",
       "  <thead>\n",
       "    <tr style=\"text-align: right;\">\n",
       "      <th></th>\n",
       "      <th>missing</th>\n",
       "      <th>percentage(%)</th>\n",
       "    </tr>\n",
       "  </thead>\n",
       "  <tbody>\n",
       "    <tr>\n",
       "      <th>user_id</th>\n",
       "      <td>0</td>\n",
       "      <td>0.00</td>\n",
       "    </tr>\n",
       "    <tr>\n",
       "      <th>age</th>\n",
       "      <td>960</td>\n",
       "      <td>0.50</td>\n",
       "    </tr>\n",
       "    <tr>\n",
       "      <th>body_type</th>\n",
       "      <td>14637</td>\n",
       "      <td>7.60</td>\n",
       "    </tr>\n",
       "    <tr>\n",
       "      <th>weight</th>\n",
       "      <td>29982</td>\n",
       "      <td>15.57</td>\n",
       "    </tr>\n",
       "    <tr>\n",
       "      <th>bra_size</th>\n",
       "      <td>18411</td>\n",
       "      <td>9.56</td>\n",
       "    </tr>\n",
       "    <tr>\n",
       "      <th>cup_size</th>\n",
       "      <td>18411</td>\n",
       "      <td>9.56</td>\n",
       "    </tr>\n",
       "    <tr>\n",
       "      <th>height</th>\n",
       "      <td>677</td>\n",
       "      <td>0.35</td>\n",
       "    </tr>\n",
       "    <tr>\n",
       "      <th>item_id</th>\n",
       "      <td>0</td>\n",
       "      <td>0.00</td>\n",
       "    </tr>\n",
       "    <tr>\n",
       "      <th>size</th>\n",
       "      <td>0</td>\n",
       "      <td>0.00</td>\n",
       "    </tr>\n",
       "    <tr>\n",
       "      <th>category</th>\n",
       "      <td>0</td>\n",
       "      <td>0.00</td>\n",
       "    </tr>\n",
       "    <tr>\n",
       "      <th>rating</th>\n",
       "      <td>82</td>\n",
       "      <td>0.04</td>\n",
       "    </tr>\n",
       "    <tr>\n",
       "      <th>rented_for</th>\n",
       "      <td>10</td>\n",
       "      <td>0.01</td>\n",
       "    </tr>\n",
       "    <tr>\n",
       "      <th>review_date</th>\n",
       "      <td>0</td>\n",
       "      <td>0.00</td>\n",
       "    </tr>\n",
       "    <tr>\n",
       "      <th>review_summary</th>\n",
       "      <td>0</td>\n",
       "      <td>0.00</td>\n",
       "    </tr>\n",
       "    <tr>\n",
       "      <th>review_text</th>\n",
       "      <td>0</td>\n",
       "      <td>0.00</td>\n",
       "    </tr>\n",
       "    <tr>\n",
       "      <th>fit</th>\n",
       "      <td>0</td>\n",
       "      <td>0.00</td>\n",
       "    </tr>\n",
       "  </tbody>\n",
       "</table>\n",
       "</div>"
      ],
      "text/plain": [
       "                missing  percentage(%)\n",
       "user_id               0           0.00\n",
       "age                 960           0.50\n",
       "body_type         14637           7.60\n",
       "weight            29982          15.57\n",
       "bra_size          18411           9.56\n",
       "cup_size          18411           9.56\n",
       "height              677           0.35\n",
       "item_id               0           0.00\n",
       "size                  0           0.00\n",
       "category              0           0.00\n",
       "rating               82           0.04\n",
       "rented_for           10           0.01\n",
       "review_date           0           0.00\n",
       "review_summary        0           0.00\n",
       "review_text           0           0.00\n",
       "fit                   0           0.00"
      ]
     },
     "execution_count": 20,
     "metadata": {},
     "output_type": "execute_result"
    }
   ],
   "source": [
    "missing = pd.DataFrame({'missing': data.isnull().sum(), 'percentage(%)': round((data.isnull().sum()/192544)*100, 2)})\n",
    "missing"
   ]
  },
  {
   "cell_type": "markdown",
   "metadata": {},
   "source": [
    "> Заполним пропущенные значения медианным или самым популярным значением в столбце"
   ]
  },
  {
   "cell_type": "code",
   "execution_count": 21,
   "metadata": {},
   "outputs": [
    {
     "name": "stdout",
     "output_type": "stream",
     "text": [
      "['body_type', 'cup_size', 'category', 'rented_for', 'review_date', 'review_summary', 'review_text', 'fit']\n",
      "['user_id', 'age', 'weight', 'bra_size', 'height', 'item_id', 'size', 'rating']\n"
     ]
    }
   ],
   "source": [
    "categorical_columns = [c for c in data.columns if data[c].dtype.name == 'object']\n",
    "numerical_columns   = [c for c in data.columns if data[c].dtype.name != 'object']\n",
    "print(categorical_columns)\n",
    "print(numerical_columns)"
   ]
  },
  {
   "cell_type": "code",
   "execution_count": 22,
   "metadata": {},
   "outputs": [
    {
     "data": {
      "text/plain": [
       "user_id     499419.00\n",
       "age             32.00\n",
       "weight          61.29\n",
       "bra_size        34.00\n",
       "height         165.10\n",
       "item_id     948396.00\n",
       "size            12.00\n",
       "rating          10.00\n",
       "dtype: float64"
      ]
     },
     "execution_count": 22,
     "metadata": {},
     "output_type": "execute_result"
    }
   ],
   "source": [
    "data.median(axis = 0)"
   ]
  },
  {
   "cell_type": "code",
   "execution_count": 23,
   "metadata": {},
   "outputs": [],
   "source": [
    "data = data.fillna(data.median(axis = 0), axis = 0)"
   ]
  },
  {
   "cell_type": "code",
   "execution_count": 24,
   "metadata": {},
   "outputs": [
    {
     "data": {
      "text/html": [
       "<div>\n",
       "<style scoped>\n",
       "    .dataframe tbody tr th:only-of-type {\n",
       "        vertical-align: middle;\n",
       "    }\n",
       "\n",
       "    .dataframe tbody tr th {\n",
       "        vertical-align: top;\n",
       "    }\n",
       "\n",
       "    .dataframe thead th {\n",
       "        text-align: right;\n",
       "    }\n",
       "</style>\n",
       "<table border=\"1\" class=\"dataframe\">\n",
       "  <thead>\n",
       "    <tr style=\"text-align: right;\">\n",
       "      <th></th>\n",
       "      <th>body_type</th>\n",
       "      <th>cup_size</th>\n",
       "      <th>category</th>\n",
       "      <th>rented_for</th>\n",
       "      <th>review_date</th>\n",
       "      <th>review_summary</th>\n",
       "      <th>review_text</th>\n",
       "      <th>fit</th>\n",
       "    </tr>\n",
       "  </thead>\n",
       "  <tbody>\n",
       "    <tr>\n",
       "      <th>count</th>\n",
       "      <td>177907</td>\n",
       "      <td>174133</td>\n",
       "      <td>192544</td>\n",
       "      <td>192534</td>\n",
       "      <td>192544</td>\n",
       "      <td>192544</td>\n",
       "      <td>192544</td>\n",
       "      <td>192544</td>\n",
       "    </tr>\n",
       "    <tr>\n",
       "      <th>unique</th>\n",
       "      <td>7</td>\n",
       "      <td>13</td>\n",
       "      <td>68</td>\n",
       "      <td>9</td>\n",
       "      <td>2274</td>\n",
       "      <td>154740</td>\n",
       "      <td>191031</td>\n",
       "      <td>3</td>\n",
       "    </tr>\n",
       "    <tr>\n",
       "      <th>top</th>\n",
       "      <td>hourglass</td>\n",
       "      <td>c</td>\n",
       "      <td>dress</td>\n",
       "      <td>wedding</td>\n",
       "      <td>June 15, 2016</td>\n",
       "      <td>Stylist Review</td>\n",
       "      <td>.</td>\n",
       "      <td>fit</td>\n",
       "    </tr>\n",
       "    <tr>\n",
       "      <th>freq</th>\n",
       "      <td>55349</td>\n",
       "      <td>49634</td>\n",
       "      <td>92884</td>\n",
       "      <td>57784</td>\n",
       "      <td>844</td>\n",
       "      <td>977</td>\n",
       "      <td>63</td>\n",
       "      <td>142058</td>\n",
       "    </tr>\n",
       "  </tbody>\n",
       "</table>\n",
       "</div>"
      ],
      "text/plain": [
       "        body_type cup_size category rented_for    review_date  review_summary  \\\n",
       "count      177907   174133   192544     192534         192544          192544   \n",
       "unique          7       13       68          9           2274          154740   \n",
       "top     hourglass        c    dress    wedding  June 15, 2016  Stylist Review   \n",
       "freq        55349    49634    92884      57784            844             977   \n",
       "\n",
       "       review_text     fit  \n",
       "count       192544  192544  \n",
       "unique      191031       3  \n",
       "top              .     fit  \n",
       "freq            63  142058  "
      ]
     },
     "execution_count": 24,
     "metadata": {},
     "output_type": "execute_result"
    }
   ],
   "source": [
    "data_describe = data.describe(include = [object])\n",
    "data_describe"
   ]
  },
  {
   "cell_type": "code",
   "execution_count": 25,
   "metadata": {},
   "outputs": [],
   "source": [
    "for c in categorical_columns:\n",
    "    data[c] = data[c].fillna(data_describe[c]['top'])"
   ]
  },
  {
   "cell_type": "code",
   "execution_count": 26,
   "metadata": {},
   "outputs": [
    {
     "data": {
      "text/html": [
       "<div>\n",
       "<style scoped>\n",
       "    .dataframe tbody tr th:only-of-type {\n",
       "        vertical-align: middle;\n",
       "    }\n",
       "\n",
       "    .dataframe tbody tr th {\n",
       "        vertical-align: top;\n",
       "    }\n",
       "\n",
       "    .dataframe thead th {\n",
       "        text-align: right;\n",
       "    }\n",
       "</style>\n",
       "<table border=\"1\" class=\"dataframe\">\n",
       "  <thead>\n",
       "    <tr style=\"text-align: right;\">\n",
       "      <th></th>\n",
       "      <th>missing</th>\n",
       "      <th>percentage(%)</th>\n",
       "    </tr>\n",
       "  </thead>\n",
       "  <tbody>\n",
       "    <tr>\n",
       "      <th>user_id</th>\n",
       "      <td>0</td>\n",
       "      <td>0.0</td>\n",
       "    </tr>\n",
       "    <tr>\n",
       "      <th>age</th>\n",
       "      <td>0</td>\n",
       "      <td>0.0</td>\n",
       "    </tr>\n",
       "    <tr>\n",
       "      <th>body_type</th>\n",
       "      <td>0</td>\n",
       "      <td>0.0</td>\n",
       "    </tr>\n",
       "    <tr>\n",
       "      <th>weight</th>\n",
       "      <td>0</td>\n",
       "      <td>0.0</td>\n",
       "    </tr>\n",
       "    <tr>\n",
       "      <th>bra_size</th>\n",
       "      <td>0</td>\n",
       "      <td>0.0</td>\n",
       "    </tr>\n",
       "    <tr>\n",
       "      <th>cup_size</th>\n",
       "      <td>0</td>\n",
       "      <td>0.0</td>\n",
       "    </tr>\n",
       "    <tr>\n",
       "      <th>height</th>\n",
       "      <td>0</td>\n",
       "      <td>0.0</td>\n",
       "    </tr>\n",
       "    <tr>\n",
       "      <th>item_id</th>\n",
       "      <td>0</td>\n",
       "      <td>0.0</td>\n",
       "    </tr>\n",
       "    <tr>\n",
       "      <th>size</th>\n",
       "      <td>0</td>\n",
       "      <td>0.0</td>\n",
       "    </tr>\n",
       "    <tr>\n",
       "      <th>category</th>\n",
       "      <td>0</td>\n",
       "      <td>0.0</td>\n",
       "    </tr>\n",
       "    <tr>\n",
       "      <th>rating</th>\n",
       "      <td>0</td>\n",
       "      <td>0.0</td>\n",
       "    </tr>\n",
       "    <tr>\n",
       "      <th>rented_for</th>\n",
       "      <td>0</td>\n",
       "      <td>0.0</td>\n",
       "    </tr>\n",
       "    <tr>\n",
       "      <th>review_date</th>\n",
       "      <td>0</td>\n",
       "      <td>0.0</td>\n",
       "    </tr>\n",
       "    <tr>\n",
       "      <th>review_summary</th>\n",
       "      <td>0</td>\n",
       "      <td>0.0</td>\n",
       "    </tr>\n",
       "    <tr>\n",
       "      <th>review_text</th>\n",
       "      <td>0</td>\n",
       "      <td>0.0</td>\n",
       "    </tr>\n",
       "    <tr>\n",
       "      <th>fit</th>\n",
       "      <td>0</td>\n",
       "      <td>0.0</td>\n",
       "    </tr>\n",
       "  </tbody>\n",
       "</table>\n",
       "</div>"
      ],
      "text/plain": [
       "                missing  percentage(%)\n",
       "user_id               0            0.0\n",
       "age                   0            0.0\n",
       "body_type             0            0.0\n",
       "weight                0            0.0\n",
       "bra_size              0            0.0\n",
       "cup_size              0            0.0\n",
       "height                0            0.0\n",
       "item_id               0            0.0\n",
       "size                  0            0.0\n",
       "category              0            0.0\n",
       "rating                0            0.0\n",
       "rented_for            0            0.0\n",
       "review_date           0            0.0\n",
       "review_summary        0            0.0\n",
       "review_text           0            0.0\n",
       "fit                   0            0.0"
      ]
     },
     "execution_count": 26,
     "metadata": {},
     "output_type": "execute_result"
    }
   ],
   "source": [
    "missing = pd.DataFrame({'missing': data.isnull().sum(), 'percentage(%)': round((data.isnull().sum()/192544)*100, 2)})\n",
    "missing"
   ]
  },
  {
   "cell_type": "markdown",
   "metadata": {},
   "source": [
    "## Анализ задачи"
   ]
  },
  {
   "cell_type": "markdown",
   "metadata": {},
   "source": [
    "> Столбцы `user_id` и `item_id` не являются значимыми для подбора подходящей одежды. "
   ]
  },
  {
   "cell_type": "code",
   "execution_count": 27,
   "metadata": {},
   "outputs": [],
   "source": [
    "data = data.drop(['user_id', 'item_id', 'review_date', 'review_summary', 'review_text'], axis=1)"
   ]
  },
  {
   "cell_type": "code",
   "execution_count": 28,
   "metadata": {},
   "outputs": [
    {
     "name": "stdout",
     "output_type": "stream",
     "text": [
      "['body_type', 'cup_size', 'category', 'rented_for', 'fit']\n",
      "['age', 'weight', 'bra_size', 'height', 'size', 'rating']\n"
     ]
    }
   ],
   "source": [
    "categorical_columns = [c for c in data.columns if data[c].dtype.name == 'object']\n",
    "numerical_columns   = [c for c in data.columns if data[c].dtype.name != 'object']\n",
    "print(categorical_columns)\n",
    "print(numerical_columns)"
   ]
  },
  {
   "cell_type": "markdown",
   "metadata": {},
   "source": [
    "## Векторизация данных"
   ]
  },
  {
   "cell_type": "code",
   "execution_count": 29,
   "metadata": {},
   "outputs": [
    {
     "name": "stdout",
     "output_type": "stream",
     "text": [
      "['body_type', 'cup_size', 'category', 'rented_for']\n"
     ]
    }
   ],
   "source": [
    "categorical_columns.remove('fit')\n",
    "print(categorical_columns)"
   ]
  },
  {
   "cell_type": "code",
   "execution_count": 30,
   "metadata": {},
   "outputs": [
    {
     "name": "stdout",
     "output_type": "stream",
     "text": [
      "Index(['body_type_apple', 'body_type_athletic', 'body_type_full bust',\n",
      "       'body_type_hourglass', 'body_type_pear', 'body_type_petite',\n",
      "       'body_type_straight & narrow', 'cup_size_a', 'cup_size_aa',\n",
      "       'cup_size_b', 'cup_size_c', 'cup_size_d', 'cup_size_d+', 'cup_size_dd',\n",
      "       'cup_size_ddd/e', 'cup_size_f', 'cup_size_g', 'cup_size_h',\n",
      "       'cup_size_i', 'cup_size_j', 'category_ballgown', 'category_blazer',\n",
      "       'category_blouse', 'category_blouson', 'category_bomber',\n",
      "       'category_buttondown', 'category_caftan', 'category_cami',\n",
      "       'category_cape', 'category_cardigan', 'category_coat', 'category_combo',\n",
      "       'category_crewneck', 'category_culotte', 'category_culottes',\n",
      "       'category_down', 'category_dress', 'category_duster', 'category_for',\n",
      "       'category_frock', 'category_gown', 'category_henley', 'category_hoodie',\n",
      "       'category_jacket', 'category_jeans', 'category_jogger',\n",
      "       'category_jumpsuit', 'category_kaftan', 'category_kimono',\n",
      "       'category_knit', 'category_legging', 'category_leggings',\n",
      "       'category_maxi', 'category_midi', 'category_mini', 'category_overalls',\n",
      "       'category_overcoat', 'category_pant', 'category_pants',\n",
      "       'category_parka', 'category_peacoat', 'category_poncho',\n",
      "       'category_print', 'category_pullover', 'category_romper',\n",
      "       'category_sheath', 'category_shift', 'category_shirt',\n",
      "       'category_shirtdress', 'category_skirt', 'category_skirts',\n",
      "       'category_skort', 'category_suit', 'category_sweater',\n",
      "       'category_sweatershirt', 'category_sweatpants', 'category_sweatshirt',\n",
      "       'category_t-shirt', 'category_tank', 'category_tee', 'category_tight',\n",
      "       'category_top', 'category_trench', 'category_trouser',\n",
      "       'category_trousers', 'category_tunic', 'category_turtleneck',\n",
      "       'category_vest', 'rented_for_date', 'rented_for_everyday',\n",
      "       'rented_for_formal affair', 'rented_for_other', 'rented_for_party',\n",
      "       'rented_for_party: cocktail', 'rented_for_vacation',\n",
      "       'rented_for_wedding', 'rented_for_work'],\n",
      "      dtype='object')\n"
     ]
    }
   ],
   "source": [
    "data_categorical = pd.get_dummies(data[categorical_columns])\n",
    "print(data_categorical.columns)"
   ]
  },
  {
   "cell_type": "markdown",
   "metadata": {},
   "source": [
    "## Нормализация данных"
   ]
  },
  {
   "cell_type": "code",
   "execution_count": 31,
   "metadata": {},
   "outputs": [
    {
     "data": {
      "text/html": [
       "<div>\n",
       "<style scoped>\n",
       "    .dataframe tbody tr th:only-of-type {\n",
       "        vertical-align: middle;\n",
       "    }\n",
       "\n",
       "    .dataframe tbody tr th {\n",
       "        vertical-align: top;\n",
       "    }\n",
       "\n",
       "    .dataframe thead th {\n",
       "        text-align: right;\n",
       "    }\n",
       "</style>\n",
       "<table border=\"1\" class=\"dataframe\">\n",
       "  <thead>\n",
       "    <tr style=\"text-align: right;\">\n",
       "      <th></th>\n",
       "      <th>age</th>\n",
       "      <th>weight</th>\n",
       "      <th>bra_size</th>\n",
       "      <th>height</th>\n",
       "      <th>size</th>\n",
       "      <th>rating</th>\n",
       "    </tr>\n",
       "  </thead>\n",
       "  <tbody>\n",
       "    <tr>\n",
       "      <th>count</th>\n",
       "      <td>192544.000000</td>\n",
       "      <td>192544.000000</td>\n",
       "      <td>192544.000000</td>\n",
       "      <td>192544.000000</td>\n",
       "      <td>192544.000000</td>\n",
       "      <td>192544.000000</td>\n",
       "    </tr>\n",
       "    <tr>\n",
       "      <th>mean</th>\n",
       "      <td>33.861689</td>\n",
       "      <td>62.206755</td>\n",
       "      <td>34.182026</td>\n",
       "      <td>165.886204</td>\n",
       "      <td>12.245175</td>\n",
       "      <td>9.092758</td>\n",
       "    </tr>\n",
       "    <tr>\n",
       "      <th>std</th>\n",
       "      <td>8.039050</td>\n",
       "      <td>9.144217</td>\n",
       "      <td>1.660765</td>\n",
       "      <td>6.753497</td>\n",
       "      <td>8.494877</td>\n",
       "      <td>1.429862</td>\n",
       "    </tr>\n",
       "    <tr>\n",
       "      <th>min</th>\n",
       "      <td>0.000000</td>\n",
       "      <td>22.700000</td>\n",
       "      <td>28.000000</td>\n",
       "      <td>137.160000</td>\n",
       "      <td>0.000000</td>\n",
       "      <td>2.000000</td>\n",
       "    </tr>\n",
       "    <tr>\n",
       "      <th>25%</th>\n",
       "      <td>29.000000</td>\n",
       "      <td>56.750000</td>\n",
       "      <td>34.000000</td>\n",
       "      <td>160.020000</td>\n",
       "      <td>8.000000</td>\n",
       "      <td>8.000000</td>\n",
       "    </tr>\n",
       "    <tr>\n",
       "      <th>50%</th>\n",
       "      <td>32.000000</td>\n",
       "      <td>61.290000</td>\n",
       "      <td>34.000000</td>\n",
       "      <td>165.100000</td>\n",
       "      <td>12.000000</td>\n",
       "      <td>10.000000</td>\n",
       "    </tr>\n",
       "    <tr>\n",
       "      <th>75%</th>\n",
       "      <td>37.000000</td>\n",
       "      <td>65.830000</td>\n",
       "      <td>36.000000</td>\n",
       "      <td>170.180000</td>\n",
       "      <td>16.000000</td>\n",
       "      <td>10.000000</td>\n",
       "    </tr>\n",
       "    <tr>\n",
       "      <th>max</th>\n",
       "      <td>117.000000</td>\n",
       "      <td>136.200000</td>\n",
       "      <td>48.000000</td>\n",
       "      <td>198.120000</td>\n",
       "      <td>58.000000</td>\n",
       "      <td>10.000000</td>\n",
       "    </tr>\n",
       "  </tbody>\n",
       "</table>\n",
       "</div>"
      ],
      "text/plain": [
       "                 age         weight       bra_size         height  \\\n",
       "count  192544.000000  192544.000000  192544.000000  192544.000000   \n",
       "mean       33.861689      62.206755      34.182026     165.886204   \n",
       "std         8.039050       9.144217       1.660765       6.753497   \n",
       "min         0.000000      22.700000      28.000000     137.160000   \n",
       "25%        29.000000      56.750000      34.000000     160.020000   \n",
       "50%        32.000000      61.290000      34.000000     165.100000   \n",
       "75%        37.000000      65.830000      36.000000     170.180000   \n",
       "max       117.000000     136.200000      48.000000     198.120000   \n",
       "\n",
       "                size         rating  \n",
       "count  192544.000000  192544.000000  \n",
       "mean       12.245175       9.092758  \n",
       "std         8.494877       1.429862  \n",
       "min         0.000000       2.000000  \n",
       "25%         8.000000       8.000000  \n",
       "50%        12.000000      10.000000  \n",
       "75%        16.000000      10.000000  \n",
       "max        58.000000      10.000000  "
      ]
     },
     "execution_count": 31,
     "metadata": {},
     "output_type": "execute_result"
    }
   ],
   "source": [
    "data_numerical = data[numerical_columns]\n",
    "data_numerical.describe()"
   ]
  },
  {
   "cell_type": "code",
   "execution_count": 32,
   "metadata": {},
   "outputs": [
    {
     "data": {
      "text/html": [
       "<div>\n",
       "<style scoped>\n",
       "    .dataframe tbody tr th:only-of-type {\n",
       "        vertical-align: middle;\n",
       "    }\n",
       "\n",
       "    .dataframe tbody tr th {\n",
       "        vertical-align: top;\n",
       "    }\n",
       "\n",
       "    .dataframe thead th {\n",
       "        text-align: right;\n",
       "    }\n",
       "</style>\n",
       "<table border=\"1\" class=\"dataframe\">\n",
       "  <thead>\n",
       "    <tr style=\"text-align: right;\">\n",
       "      <th></th>\n",
       "      <th>age</th>\n",
       "      <th>weight</th>\n",
       "      <th>bra_size</th>\n",
       "      <th>height</th>\n",
       "      <th>size</th>\n",
       "      <th>rating</th>\n",
       "    </tr>\n",
       "  </thead>\n",
       "  <tbody>\n",
       "    <tr>\n",
       "      <th>count</th>\n",
       "      <td>1.925440e+05</td>\n",
       "      <td>1.925440e+05</td>\n",
       "      <td>1.925440e+05</td>\n",
       "      <td>1.925440e+05</td>\n",
       "      <td>1.925440e+05</td>\n",
       "      <td>1.925440e+05</td>\n",
       "    </tr>\n",
       "    <tr>\n",
       "      <th>mean</th>\n",
       "      <td>-2.843367e-16</td>\n",
       "      <td>6.520380e-12</td>\n",
       "      <td>1.522723e-15</td>\n",
       "      <td>-5.159701e-12</td>\n",
       "      <td>6.192303e-17</td>\n",
       "      <td>3.894730e-16</td>\n",
       "    </tr>\n",
       "    <tr>\n",
       "      <th>std</th>\n",
       "      <td>1.000000e+00</td>\n",
       "      <td>1.000000e+00</td>\n",
       "      <td>1.000000e+00</td>\n",
       "      <td>1.000000e+00</td>\n",
       "      <td>1.000000e+00</td>\n",
       "      <td>1.000000e+00</td>\n",
       "    </tr>\n",
       "    <tr>\n",
       "      <th>min</th>\n",
       "      <td>-4.212151e+00</td>\n",
       "      <td>-4.320409e+00</td>\n",
       "      <td>-3.722398e+00</td>\n",
       "      <td>-4.253530e+00</td>\n",
       "      <td>-1.441478e+00</td>\n",
       "      <td>-4.960448e+00</td>\n",
       "    </tr>\n",
       "    <tr>\n",
       "      <th>25%</th>\n",
       "      <td>-6.047591e-01</td>\n",
       "      <td>-5.967438e-01</td>\n",
       "      <td>-1.096037e-01</td>\n",
       "      <td>-8.686173e-01</td>\n",
       "      <td>-4.997336e-01</td>\n",
       "      <td>-7.642401e-01</td>\n",
       "    </tr>\n",
       "    <tr>\n",
       "      <th>50%</th>\n",
       "      <td>-2.315807e-01</td>\n",
       "      <td>-1.002552e-01</td>\n",
       "      <td>-1.096037e-01</td>\n",
       "      <td>-1.164144e-01</td>\n",
       "      <td>-2.886153e-02</td>\n",
       "      <td>6.344961e-01</td>\n",
       "    </tr>\n",
       "    <tr>\n",
       "      <th>75%</th>\n",
       "      <td>3.903834e-01</td>\n",
       "      <td>3.962335e-01</td>\n",
       "      <td>1.094661e+00</td>\n",
       "      <td>6.357885e-01</td>\n",
       "      <td>4.420105e-01</td>\n",
       "      <td>6.344961e-01</td>\n",
       "    </tr>\n",
       "    <tr>\n",
       "      <th>max</th>\n",
       "      <td>1.034181e+01</td>\n",
       "      <td>8.091807e+00</td>\n",
       "      <td>8.320249e+00</td>\n",
       "      <td>4.772905e+00</td>\n",
       "      <td>5.386167e+00</td>\n",
       "      <td>6.344961e-01</td>\n",
       "    </tr>\n",
       "  </tbody>\n",
       "</table>\n",
       "</div>"
      ],
      "text/plain": [
       "                age        weight      bra_size        height          size  \\\n",
       "count  1.925440e+05  1.925440e+05  1.925440e+05  1.925440e+05  1.925440e+05   \n",
       "mean  -2.843367e-16  6.520380e-12  1.522723e-15 -5.159701e-12  6.192303e-17   \n",
       "std    1.000000e+00  1.000000e+00  1.000000e+00  1.000000e+00  1.000000e+00   \n",
       "min   -4.212151e+00 -4.320409e+00 -3.722398e+00 -4.253530e+00 -1.441478e+00   \n",
       "25%   -6.047591e-01 -5.967438e-01 -1.096037e-01 -8.686173e-01 -4.997336e-01   \n",
       "50%   -2.315807e-01 -1.002552e-01 -1.096037e-01 -1.164144e-01 -2.886153e-02   \n",
       "75%    3.903834e-01  3.962335e-01  1.094661e+00  6.357885e-01  4.420105e-01   \n",
       "max    1.034181e+01  8.091807e+00  8.320249e+00  4.772905e+00  5.386167e+00   \n",
       "\n",
       "             rating  \n",
       "count  1.925440e+05  \n",
       "mean   3.894730e-16  \n",
       "std    1.000000e+00  \n",
       "min   -4.960448e+00  \n",
       "25%   -7.642401e-01  \n",
       "50%    6.344961e-01  \n",
       "75%    6.344961e-01  \n",
       "max    6.344961e-01  "
      ]
     },
     "execution_count": 32,
     "metadata": {},
     "output_type": "execute_result"
    }
   ],
   "source": [
    "data_numerical = (data_numerical - data_numerical.mean(axis = 0))/data_numerical.std(axis = 0)\n",
    "data_numerical.describe()"
   ]
  },
  {
   "cell_type": "markdown",
   "metadata": {},
   "source": [
    "## Соединяем данные"
   ]
  },
  {
   "cell_type": "code",
   "execution_count": 33,
   "metadata": {},
   "outputs": [
    {
     "name": "stdout",
     "output_type": "stream",
     "text": [
      "(192544, 104)\n"
     ]
    }
   ],
   "source": [
    "data = pd.concat((data_numerical, data_categorical, data['fit']), axis = 1)\n",
    "print(data.shape)"
   ]
  },
  {
   "cell_type": "code",
   "execution_count": 34,
   "metadata": {},
   "outputs": [
    {
     "data": {
      "text/html": [
       "<div>\n",
       "<style scoped>\n",
       "    .dataframe tbody tr th:only-of-type {\n",
       "        vertical-align: middle;\n",
       "    }\n",
       "\n",
       "    .dataframe tbody tr th {\n",
       "        vertical-align: top;\n",
       "    }\n",
       "\n",
       "    .dataframe thead th {\n",
       "        text-align: right;\n",
       "    }\n",
       "</style>\n",
       "<table border=\"1\" class=\"dataframe\">\n",
       "  <thead>\n",
       "    <tr style=\"text-align: right;\">\n",
       "      <th></th>\n",
       "      <th>age</th>\n",
       "      <th>weight</th>\n",
       "      <th>bra_size</th>\n",
       "      <th>height</th>\n",
       "      <th>size</th>\n",
       "      <th>rating</th>\n",
       "      <th>body_type_apple</th>\n",
       "      <th>body_type_athletic</th>\n",
       "      <th>body_type_full bust</th>\n",
       "      <th>body_type_hourglass</th>\n",
       "      <th>...</th>\n",
       "      <th>category_vest</th>\n",
       "      <th>rented_for_date</th>\n",
       "      <th>rented_for_everyday</th>\n",
       "      <th>rented_for_formal affair</th>\n",
       "      <th>rented_for_other</th>\n",
       "      <th>rented_for_party</th>\n",
       "      <th>rented_for_party: cocktail</th>\n",
       "      <th>rented_for_vacation</th>\n",
       "      <th>rented_for_wedding</th>\n",
       "      <th>rented_for_work</th>\n",
       "    </tr>\n",
       "  </thead>\n",
       "  <tbody>\n",
       "    <tr>\n",
       "      <th>count</th>\n",
       "      <td>1.925440e+05</td>\n",
       "      <td>1.925440e+05</td>\n",
       "      <td>1.925440e+05</td>\n",
       "      <td>1.925440e+05</td>\n",
       "      <td>1.925440e+05</td>\n",
       "      <td>1.925440e+05</td>\n",
       "      <td>192544.000000</td>\n",
       "      <td>192544.000000</td>\n",
       "      <td>192544.000000</td>\n",
       "      <td>192544.000000</td>\n",
       "      <td>...</td>\n",
       "      <td>192544.000000</td>\n",
       "      <td>192544.000000</td>\n",
       "      <td>192544.000000</td>\n",
       "      <td>192544.000000</td>\n",
       "      <td>192544.000000</td>\n",
       "      <td>192544.000000</td>\n",
       "      <td>192544.000000</td>\n",
       "      <td>192544.000000</td>\n",
       "      <td>192544.000000</td>\n",
       "      <td>192544.000000</td>\n",
       "    </tr>\n",
       "    <tr>\n",
       "      <th>mean</th>\n",
       "      <td>-2.843367e-16</td>\n",
       "      <td>6.520380e-12</td>\n",
       "      <td>1.522723e-15</td>\n",
       "      <td>-5.159701e-12</td>\n",
       "      <td>6.192303e-17</td>\n",
       "      <td>3.894730e-16</td>\n",
       "      <td>0.025329</td>\n",
       "      <td>0.226790</td>\n",
       "      <td>0.077935</td>\n",
       "      <td>0.363481</td>\n",
       "      <td>...</td>\n",
       "      <td>0.001444</td>\n",
       "      <td>0.038370</td>\n",
       "      <td>0.087367</td>\n",
       "      <td>0.209864</td>\n",
       "      <td>0.079919</td>\n",
       "      <td>0.185028</td>\n",
       "      <td>0.000005</td>\n",
       "      <td>0.021164</td>\n",
       "      <td>0.300160</td>\n",
       "      <td>0.078122</td>\n",
       "    </tr>\n",
       "    <tr>\n",
       "      <th>std</th>\n",
       "      <td>1.000000e+00</td>\n",
       "      <td>1.000000e+00</td>\n",
       "      <td>1.000000e+00</td>\n",
       "      <td>1.000000e+00</td>\n",
       "      <td>1.000000e+00</td>\n",
       "      <td>1.000000e+00</td>\n",
       "      <td>0.157124</td>\n",
       "      <td>0.418757</td>\n",
       "      <td>0.268071</td>\n",
       "      <td>0.481003</td>\n",
       "      <td>...</td>\n",
       "      <td>0.037970</td>\n",
       "      <td>0.192089</td>\n",
       "      <td>0.282373</td>\n",
       "      <td>0.407212</td>\n",
       "      <td>0.271169</td>\n",
       "      <td>0.388321</td>\n",
       "      <td>0.002279</td>\n",
       "      <td>0.143931</td>\n",
       "      <td>0.458329</td>\n",
       "      <td>0.268365</td>\n",
       "    </tr>\n",
       "    <tr>\n",
       "      <th>min</th>\n",
       "      <td>-4.212151e+00</td>\n",
       "      <td>-4.320409e+00</td>\n",
       "      <td>-3.722398e+00</td>\n",
       "      <td>-4.253530e+00</td>\n",
       "      <td>-1.441478e+00</td>\n",
       "      <td>-4.960448e+00</td>\n",
       "      <td>0.000000</td>\n",
       "      <td>0.000000</td>\n",
       "      <td>0.000000</td>\n",
       "      <td>0.000000</td>\n",
       "      <td>...</td>\n",
       "      <td>0.000000</td>\n",
       "      <td>0.000000</td>\n",
       "      <td>0.000000</td>\n",
       "      <td>0.000000</td>\n",
       "      <td>0.000000</td>\n",
       "      <td>0.000000</td>\n",
       "      <td>0.000000</td>\n",
       "      <td>0.000000</td>\n",
       "      <td>0.000000</td>\n",
       "      <td>0.000000</td>\n",
       "    </tr>\n",
       "    <tr>\n",
       "      <th>25%</th>\n",
       "      <td>-6.047591e-01</td>\n",
       "      <td>-5.967438e-01</td>\n",
       "      <td>-1.096037e-01</td>\n",
       "      <td>-8.686173e-01</td>\n",
       "      <td>-4.997336e-01</td>\n",
       "      <td>-7.642401e-01</td>\n",
       "      <td>0.000000</td>\n",
       "      <td>0.000000</td>\n",
       "      <td>0.000000</td>\n",
       "      <td>0.000000</td>\n",
       "      <td>...</td>\n",
       "      <td>0.000000</td>\n",
       "      <td>0.000000</td>\n",
       "      <td>0.000000</td>\n",
       "      <td>0.000000</td>\n",
       "      <td>0.000000</td>\n",
       "      <td>0.000000</td>\n",
       "      <td>0.000000</td>\n",
       "      <td>0.000000</td>\n",
       "      <td>0.000000</td>\n",
       "      <td>0.000000</td>\n",
       "    </tr>\n",
       "    <tr>\n",
       "      <th>50%</th>\n",
       "      <td>-2.315807e-01</td>\n",
       "      <td>-1.002552e-01</td>\n",
       "      <td>-1.096037e-01</td>\n",
       "      <td>-1.164144e-01</td>\n",
       "      <td>-2.886153e-02</td>\n",
       "      <td>6.344961e-01</td>\n",
       "      <td>0.000000</td>\n",
       "      <td>0.000000</td>\n",
       "      <td>0.000000</td>\n",
       "      <td>0.000000</td>\n",
       "      <td>...</td>\n",
       "      <td>0.000000</td>\n",
       "      <td>0.000000</td>\n",
       "      <td>0.000000</td>\n",
       "      <td>0.000000</td>\n",
       "      <td>0.000000</td>\n",
       "      <td>0.000000</td>\n",
       "      <td>0.000000</td>\n",
       "      <td>0.000000</td>\n",
       "      <td>0.000000</td>\n",
       "      <td>0.000000</td>\n",
       "    </tr>\n",
       "    <tr>\n",
       "      <th>75%</th>\n",
       "      <td>3.903834e-01</td>\n",
       "      <td>3.962335e-01</td>\n",
       "      <td>1.094661e+00</td>\n",
       "      <td>6.357885e-01</td>\n",
       "      <td>4.420105e-01</td>\n",
       "      <td>6.344961e-01</td>\n",
       "      <td>0.000000</td>\n",
       "      <td>0.000000</td>\n",
       "      <td>0.000000</td>\n",
       "      <td>1.000000</td>\n",
       "      <td>...</td>\n",
       "      <td>0.000000</td>\n",
       "      <td>0.000000</td>\n",
       "      <td>0.000000</td>\n",
       "      <td>0.000000</td>\n",
       "      <td>0.000000</td>\n",
       "      <td>0.000000</td>\n",
       "      <td>0.000000</td>\n",
       "      <td>0.000000</td>\n",
       "      <td>1.000000</td>\n",
       "      <td>0.000000</td>\n",
       "    </tr>\n",
       "    <tr>\n",
       "      <th>max</th>\n",
       "      <td>1.034181e+01</td>\n",
       "      <td>8.091807e+00</td>\n",
       "      <td>8.320249e+00</td>\n",
       "      <td>4.772905e+00</td>\n",
       "      <td>5.386167e+00</td>\n",
       "      <td>6.344961e-01</td>\n",
       "      <td>1.000000</td>\n",
       "      <td>1.000000</td>\n",
       "      <td>1.000000</td>\n",
       "      <td>1.000000</td>\n",
       "      <td>...</td>\n",
       "      <td>1.000000</td>\n",
       "      <td>1.000000</td>\n",
       "      <td>1.000000</td>\n",
       "      <td>1.000000</td>\n",
       "      <td>1.000000</td>\n",
       "      <td>1.000000</td>\n",
       "      <td>1.000000</td>\n",
       "      <td>1.000000</td>\n",
       "      <td>1.000000</td>\n",
       "      <td>1.000000</td>\n",
       "    </tr>\n",
       "  </tbody>\n",
       "</table>\n",
       "<p>8 rows × 103 columns</p>\n",
       "</div>"
      ],
      "text/plain": [
       "                age        weight      bra_size        height          size  \\\n",
       "count  1.925440e+05  1.925440e+05  1.925440e+05  1.925440e+05  1.925440e+05   \n",
       "mean  -2.843367e-16  6.520380e-12  1.522723e-15 -5.159701e-12  6.192303e-17   \n",
       "std    1.000000e+00  1.000000e+00  1.000000e+00  1.000000e+00  1.000000e+00   \n",
       "min   -4.212151e+00 -4.320409e+00 -3.722398e+00 -4.253530e+00 -1.441478e+00   \n",
       "25%   -6.047591e-01 -5.967438e-01 -1.096037e-01 -8.686173e-01 -4.997336e-01   \n",
       "50%   -2.315807e-01 -1.002552e-01 -1.096037e-01 -1.164144e-01 -2.886153e-02   \n",
       "75%    3.903834e-01  3.962335e-01  1.094661e+00  6.357885e-01  4.420105e-01   \n",
       "max    1.034181e+01  8.091807e+00  8.320249e+00  4.772905e+00  5.386167e+00   \n",
       "\n",
       "             rating  body_type_apple  body_type_athletic  body_type_full bust  \\\n",
       "count  1.925440e+05    192544.000000       192544.000000        192544.000000   \n",
       "mean   3.894730e-16         0.025329            0.226790             0.077935   \n",
       "std    1.000000e+00         0.157124            0.418757             0.268071   \n",
       "min   -4.960448e+00         0.000000            0.000000             0.000000   \n",
       "25%   -7.642401e-01         0.000000            0.000000             0.000000   \n",
       "50%    6.344961e-01         0.000000            0.000000             0.000000   \n",
       "75%    6.344961e-01         0.000000            0.000000             0.000000   \n",
       "max    6.344961e-01         1.000000            1.000000             1.000000   \n",
       "\n",
       "       body_type_hourglass  ...  category_vest  rented_for_date  \\\n",
       "count        192544.000000  ...  192544.000000    192544.000000   \n",
       "mean              0.363481  ...       0.001444         0.038370   \n",
       "std               0.481003  ...       0.037970         0.192089   \n",
       "min               0.000000  ...       0.000000         0.000000   \n",
       "25%               0.000000  ...       0.000000         0.000000   \n",
       "50%               0.000000  ...       0.000000         0.000000   \n",
       "75%               1.000000  ...       0.000000         0.000000   \n",
       "max               1.000000  ...       1.000000         1.000000   \n",
       "\n",
       "       rented_for_everyday  rented_for_formal affair  rented_for_other  \\\n",
       "count        192544.000000             192544.000000     192544.000000   \n",
       "mean              0.087367                  0.209864          0.079919   \n",
       "std               0.282373                  0.407212          0.271169   \n",
       "min               0.000000                  0.000000          0.000000   \n",
       "25%               0.000000                  0.000000          0.000000   \n",
       "50%               0.000000                  0.000000          0.000000   \n",
       "75%               0.000000                  0.000000          0.000000   \n",
       "max               1.000000                  1.000000          1.000000   \n",
       "\n",
       "       rented_for_party  rented_for_party: cocktail  rented_for_vacation  \\\n",
       "count     192544.000000               192544.000000        192544.000000   \n",
       "mean           0.185028                    0.000005             0.021164   \n",
       "std            0.388321                    0.002279             0.143931   \n",
       "min            0.000000                    0.000000             0.000000   \n",
       "25%            0.000000                    0.000000             0.000000   \n",
       "50%            0.000000                    0.000000             0.000000   \n",
       "75%            0.000000                    0.000000             0.000000   \n",
       "max            1.000000                    1.000000             1.000000   \n",
       "\n",
       "       rented_for_wedding  rented_for_work  \n",
       "count       192544.000000    192544.000000  \n",
       "mean             0.300160         0.078122  \n",
       "std              0.458329         0.268365  \n",
       "min              0.000000         0.000000  \n",
       "25%              0.000000         0.000000  \n",
       "50%              0.000000         0.000000  \n",
       "75%              1.000000         0.000000  \n",
       "max              1.000000         1.000000  \n",
       "\n",
       "[8 rows x 103 columns]"
      ]
     },
     "execution_count": 34,
     "metadata": {},
     "output_type": "execute_result"
    }
   ],
   "source": [
    "data.describe()"
   ]
  },
  {
   "cell_type": "markdown",
   "metadata": {},
   "source": [
    "## X и y"
   ]
  },
  {
   "cell_type": "code",
   "execution_count": 35,
   "metadata": {},
   "outputs": [],
   "source": [
    "X = data.drop(('fit'), axis = 1)\n",
    "y = data['fit']"
   ]
  },
  {
   "cell_type": "code",
   "execution_count": 36,
   "metadata": {},
   "outputs": [
    {
     "name": "stdout",
     "output_type": "stream",
     "text": [
      "(192544, 103)\n",
      "(192544,)\n"
     ]
    }
   ],
   "source": [
    "print(X.shape)\n",
    "print(y.shape)"
   ]
  },
  {
   "cell_type": "code",
   "execution_count": 38,
   "metadata": {},
   "outputs": [
    {
     "name": "stdout",
     "output_type": "stream",
     "text": [
      "134780 57764\n"
     ]
    }
   ],
   "source": [
    "from sklearn.model_selection import train_test_split\n",
    "X_train, X_test, y_train, y_test = train_test_split(X, y, test_size = 0.3, random_state = 42)\n",
    "\n",
    "print(X_train.shape[0], X_test.shape[0])"
   ]
  },
  {
   "cell_type": "markdown",
   "metadata": {},
   "source": [
    "## $k$NN"
   ]
  },
  {
   "cell_type": "code",
   "execution_count": 37,
   "metadata": {},
   "outputs": [
    {
     "data": {
      "text/plain": [
       "KNeighborsClassifier(algorithm='auto', leaf_size=30, metric='minkowski',\n",
       "                     metric_params=None, n_jobs=None, n_neighbors=10, p=2,\n",
       "                     weights='uniform')"
      ]
     },
     "execution_count": 37,
     "metadata": {},
     "output_type": "execute_result"
    }
   ],
   "source": [
    "from sklearn.neighbors import KNeighborsClassifier\n",
    "\n",
    "knn = KNeighborsClassifier(n_neighbors = 10)\n",
    "knn.fit(X_train, y_train)"
   ]
  },
  {
   "cell_type": "code",
   "execution_count": 38,
   "metadata": {},
   "outputs": [],
   "source": [
    "y_train_predict = knn.predict(X_train)"
   ]
  },
  {
   "cell_type": "code",
   "execution_count": 39,
   "metadata": {},
   "outputs": [],
   "source": [
    "y_test_predict = knn.predict(X_test)"
   ]
  },
  {
   "cell_type": "code",
   "execution_count": 40,
   "metadata": {},
   "outputs": [
    {
     "name": "stdout",
     "output_type": "stream",
     "text": [
      "0.2476183410001484 0.2694931098954366\n"
     ]
    }
   ],
   "source": [
    "err_train = np.mean(y_train != y_train_predict)\n",
    "err_test  = np.mean(y_test  != y_test_predict)\n",
    "\n",
    "print(err_train, err_test)"
   ]
  },
  {
   "cell_type": "markdown",
   "metadata": {},
   "source": [
    "> Найдем оптимальное значение n_neighbors"
   ]
  },
  {
   "cell_type": "code",
   "execution_count": 41,
   "metadata": {},
   "outputs": [
    {
     "name": "stdout",
     "output_type": "stream",
     "text": [
      "0.25875500816144825 50\n",
      "CPU times: user 1h 44min 22s, sys: 2.4 s, total: 1h 44min 25s\n",
      "Wall time: 1h 44min 25s\n"
     ]
    }
   ],
   "source": [
    "%%time\n",
    "from sklearn.model_selection import GridSearchCV\n",
    "nnb = [1, 10, 50, 100, 200, 500]\n",
    "knn = KNeighborsClassifier()\n",
    "grid = GridSearchCV(knn, param_grid = {'n_neighbors': nnb}, cv=10)\n",
    "grid.fit(X_train, y_train)\n",
    "\n",
    "best_cv_err = 1 - grid.best_score_\n",
    "best_n_neighbors = grid.best_estimator_.n_neighbors\n",
    "print(best_cv_err, best_n_neighbors)"
   ]
  },
  {
   "cell_type": "markdown",
   "metadata": {},
   "source": [
    "> Наилучшее значение количества ближайших соседей - 50"
   ]
  },
  {
   "cell_type": "code",
   "execution_count": 42,
   "metadata": {},
   "outputs": [
    {
     "name": "stdout",
     "output_type": "stream",
     "text": [
      "0.25703368452292624 0.2629319299217506\n"
     ]
    }
   ],
   "source": [
    "knn = KNeighborsClassifier(n_neighbors = best_n_neighbors).fit(X_train, y_train)\n",
    "\n",
    "err_train = np.mean(y_train != knn.predict(X_train))\n",
    "err_test  = np.mean(y_test  != knn.predict(X_test))\n",
    "\n",
    "print(err_train, err_test)"
   ]
  },
  {
   "cell_type": "markdown",
   "metadata": {},
   "source": [
    "## PCA"
   ]
  },
  {
   "cell_type": "code",
   "execution_count": 38,
   "metadata": {},
   "outputs": [],
   "source": [
    "from sklearn.decomposition import PCA"
   ]
  },
  {
   "cell_type": "code",
   "execution_count": 56,
   "metadata": {},
   "outputs": [
    {
     "data": {
      "text/plain": [
       "array([[ 0.29760581, -1.27392461],\n",
       "       [-0.1910356 , -0.29667229],\n",
       "       [ 0.69763541,  7.05994233],\n",
       "       ...,\n",
       "       [ 0.43819148,  0.454939  ],\n",
       "       [ 1.58905443, -0.69716661],\n",
       "       [ 1.22408277, -0.83809388]])"
      ]
     },
     "execution_count": 56,
     "metadata": {},
     "output_type": "execute_result"
    }
   ],
   "source": [
    "pca = PCA(n_components=2)\n",
    "principal_components = pca.fit_transform(X)\n",
    "principal_components"
   ]
  },
  {
   "cell_type": "code",
   "execution_count": 58,
   "metadata": {},
   "outputs": [
    {
     "data": {
      "text/html": [
       "<div>\n",
       "<style scoped>\n",
       "    .dataframe tbody tr th:only-of-type {\n",
       "        vertical-align: middle;\n",
       "    }\n",
       "\n",
       "    .dataframe tbody tr th {\n",
       "        vertical-align: top;\n",
       "    }\n",
       "\n",
       "    .dataframe thead th {\n",
       "        text-align: right;\n",
       "    }\n",
       "</style>\n",
       "<table border=\"1\" class=\"dataframe\">\n",
       "  <thead>\n",
       "    <tr style=\"text-align: right;\">\n",
       "      <th></th>\n",
       "      <th>principal_component_1</th>\n",
       "      <th>principal_component_2</th>\n",
       "    </tr>\n",
       "  </thead>\n",
       "  <tbody>\n",
       "    <tr>\n",
       "      <th>0</th>\n",
       "      <td>0.297606</td>\n",
       "      <td>-1.273925</td>\n",
       "    </tr>\n",
       "    <tr>\n",
       "      <th>1</th>\n",
       "      <td>-0.191036</td>\n",
       "      <td>-0.296672</td>\n",
       "    </tr>\n",
       "    <tr>\n",
       "      <th>2</th>\n",
       "      <td>0.697635</td>\n",
       "      <td>7.059942</td>\n",
       "    </tr>\n",
       "    <tr>\n",
       "      <th>3</th>\n",
       "      <td>-0.378309</td>\n",
       "      <td>0.415228</td>\n",
       "    </tr>\n",
       "    <tr>\n",
       "      <th>4</th>\n",
       "      <td>0.340377</td>\n",
       "      <td>-1.766900</td>\n",
       "    </tr>\n",
       "  </tbody>\n",
       "</table>\n",
       "</div>"
      ],
      "text/plain": [
       "   principal_component_1  principal_component_2\n",
       "0               0.297606              -1.273925\n",
       "1              -0.191036              -0.296672\n",
       "2               0.697635               7.059942\n",
       "3              -0.378309               0.415228\n",
       "4               0.340377              -1.766900"
      ]
     },
     "execution_count": 58,
     "metadata": {},
     "output_type": "execute_result"
    }
   ],
   "source": [
    "pca_X = pd.DataFrame(data=principal_components,\n",
    "                     columns = ['principal_component_1', 'principal_component_2'])\n",
    "pca_X.head()"
   ]
  },
  {
   "cell_type": "code",
   "execution_count": 59,
   "metadata": {},
   "outputs": [
    {
     "data": {
      "text/html": [
       "<div>\n",
       "<style scoped>\n",
       "    .dataframe tbody tr th:only-of-type {\n",
       "        vertical-align: middle;\n",
       "    }\n",
       "\n",
       "    .dataframe tbody tr th {\n",
       "        vertical-align: top;\n",
       "    }\n",
       "\n",
       "    .dataframe thead th {\n",
       "        text-align: right;\n",
       "    }\n",
       "</style>\n",
       "<table border=\"1\" class=\"dataframe\">\n",
       "  <thead>\n",
       "    <tr style=\"text-align: right;\">\n",
       "      <th></th>\n",
       "      <th>principal_component_1</th>\n",
       "      <th>principal_component_2</th>\n",
       "      <th>fit</th>\n",
       "    </tr>\n",
       "  </thead>\n",
       "  <tbody>\n",
       "    <tr>\n",
       "      <th>0</th>\n",
       "      <td>0.297606</td>\n",
       "      <td>-1.273925</td>\n",
       "      <td>fit</td>\n",
       "    </tr>\n",
       "    <tr>\n",
       "      <th>1</th>\n",
       "      <td>-0.191036</td>\n",
       "      <td>-0.296672</td>\n",
       "      <td>fit</td>\n",
       "    </tr>\n",
       "    <tr>\n",
       "      <th>2</th>\n",
       "      <td>0.697635</td>\n",
       "      <td>7.059942</td>\n",
       "      <td>fit</td>\n",
       "    </tr>\n",
       "    <tr>\n",
       "      <th>3</th>\n",
       "      <td>-0.378309</td>\n",
       "      <td>0.415228</td>\n",
       "      <td>fit</td>\n",
       "    </tr>\n",
       "    <tr>\n",
       "      <th>4</th>\n",
       "      <td>0.340377</td>\n",
       "      <td>-1.766900</td>\n",
       "      <td>fit</td>\n",
       "    </tr>\n",
       "  </tbody>\n",
       "</table>\n",
       "</div>"
      ],
      "text/plain": [
       "   principal_component_1  principal_component_2  fit\n",
       "0               0.297606              -1.273925  fit\n",
       "1              -0.191036              -0.296672  fit\n",
       "2               0.697635               7.059942  fit\n",
       "3              -0.378309               0.415228  fit\n",
       "4               0.340377              -1.766900  fit"
      ]
     },
     "execution_count": 59,
     "metadata": {},
     "output_type": "execute_result"
    }
   ],
   "source": [
    "final_data = pd.concat([pca_X, y], axis=1)\n",
    "final_data.head()"
   ]
  },
  {
   "cell_type": "code",
   "execution_count": 60,
   "metadata": {},
   "outputs": [
    {
     "data": {
      "image/png": "[encoded data removed]",
      "text/plain": [
       "<Figure size 576x576 with 1 Axes>"
      ]
     },
     "metadata": {
      "needs_background": "light"
     },
     "output_type": "display_data"
    }
   ],
   "source": [
    "plt.figure(figsize = (8, 8))\n",
    "\n",
    "plt.scatter(final_data[final_data['fit'] == 'fit']['principal_component_1'],\n",
    "            final_data[final_data['fit'] == 'fit']['principal_component_2'],\n",
    "            alpha = 0.15,\n",
    "            label = 'fit',\n",
    "            color = 'g')\n",
    "\n",
    "plt.scatter(final_data[final_data['fit'] == 'small']['principal_component_1'],\n",
    "            final_data[final_data['fit'] == 'small']['principal_component_2'],\n",
    "            alpha = 0.1,\n",
    "            label = 'small',\n",
    "            color = 'r')\n",
    "\n",
    "plt.scatter(final_data[final_data['fit'] == 'large']['principal_component_1'],\n",
    "            final_data[final_data['fit'] == 'large']['principal_component_2'],\n",
    "            alpha = 0.05,\n",
    "            label = 'large',\n",
    "            color = 'b')\n",
    "\n",
    "plt.xlabel('Principal component 1')\n",
    "plt.ylabel('Principal component 2')\n",
    "plt.legend()\n",
    "plt.grid()"
   ]
  },
  {
   "cell_type": "code",
   "execution_count": 61,
   "metadata": {},
   "outputs": [
    {
     "name": "stdout",
     "output_type": "stream",
     "text": [
      "134780 57764\n"
     ]
    }
   ],
   "source": [
    "from sklearn.model_selection import train_test_split\n",
    "X_train, X_test, y_train, y_test = train_test_split(pca_X, y, test_size = 0.3, random_state = 42)\n",
    "\n",
    "print(X_train.shape[0], X_test.shape[0])"
   ]
  },
  {
   "cell_type": "markdown",
   "metadata": {},
   "source": [
    "> Возьмем вычисленное ранее best_n_neighbors и применим kNN"
   ]
  },
  {
   "cell_type": "code",
   "execution_count": 63,
   "metadata": {},
   "outputs": [
    {
     "name": "stdout",
     "output_type": "stream",
     "text": [
      "0.2604318148093189 0.26492278928052077\n"
     ]
    }
   ],
   "source": [
    "from sklearn.neighbors import KNeighborsClassifier\n",
    "\n",
    "knn = KNeighborsClassifier(n_neighbors = 50).fit(X_train, y_train)\n",
    "\n",
    "err_train = np.mean(y_train != knn.predict(X_train))\n",
    "err_test  = np.mean(y_test  != knn.predict(X_test))\n",
    "\n",
    "print(err_train, err_test)"
   ]
  },
  {
   "cell_type": "code",
   "execution_count": null,
   "metadata": {},
   "outputs": [],
   "source": [
    "err_pca_train = []\n",
    "err_pca_test = []"
   ]
  },
  {
   "cell_type": "code",
   "execution_count": 83,
   "metadata": {},
   "outputs": [
    {
     "name": "stdout",
     "output_type": "stream",
     "text": [
      "38 0.2569520700400653 0.26272418807561804\n",
      "CPU times: user 10min 50s, sys: 4.59 s, total: 10min 54s\n",
      "Wall time: 10min 43s\n"
     ]
    }
   ],
   "source": [
    "%%time\n",
    "for n in range(38, 39):\n",
    "    pca = PCA(n_components=n)\n",
    "    pca_X = pca.fit_transform(X)\n",
    "    \n",
    "    X_train, X_test, y_train, y_test = train_test_split(pca_X, y, test_size = 0.3, random_state = 42)\n",
    "    \n",
    "    knn = KNeighborsClassifier(n_neighbors = 50).fit(X_train, y_train)\n",
    "    err_train = np.mean(y_train != knn.predict(X_train))\n",
    "    err_test  = np.mean(y_test  != knn.predict(X_test))\n",
    "    \n",
    "    err_pca_train.append(err_train)\n",
    "    err_pca_test.append(err_test)\n",
    "    \n",
    "    print(n, err_train, err_test)"
   ]
  },
  {
   "cell_type": "code",
   "execution_count": 84,
   "metadata": {},
   "outputs": [
    {
     "data": {
      "text/plain": [
       "<matplotlib.legend.Legend at 0x7f18a6463978>"
      ]
     },
     "execution_count": 84,
     "metadata": {},
     "output_type": "execute_result"
    },
    {
     "data": {
      "image/png": "[encoded data removed]",
      "text/plain": [
       "<Figure size 432x288 with 1 Axes>"
      ]
     },
     "metadata": {
      "needs_background": "light"
     },
     "output_type": "display_data"
    }
   ],
   "source": [
    "plt.plot(range(1, 39), err_pca_train, label='err_pca_train')\n",
    "plt.plot(range(1, 39), err_pca_test, label='err_pca_test')\n",
    "plt.xlabel('n_components')\n",
    "plt.ylabel('err_pca')\n",
    "plt.legend()"
   ]
  },
  {
   "cell_type": "code",
   "execution_count": 85,
   "metadata": {},
   "outputs": [
    {
     "name": "stdout",
     "output_type": "stream",
     "text": [
      "37 0.26272418807561804\n",
      "38\n"
     ]
    }
   ],
   "source": [
    "print(err_pca_test.index(min(err_pca_test)), min(err_pca_test))\n",
    "print(len(err_pca_test))"
   ]
  },
  {
   "cell_type": "markdown",
   "metadata": {},
   "source": [
    ">  Наибольшая точность для best_n_neighbors = 50 достигается при 38 главных компонентах. Ошибка на тестовых данных на 0.0002 меньше, чем при использовании метода kNN на исходных данных"
   ]
  },
  {
   "cell_type": "markdown",
   "metadata": {},
   "source": [
    "## Полносвязный классификатор"
   ]
  },
  {
   "cell_type": "code",
   "execution_count": 37,
   "metadata": {},
   "outputs": [
    {
     "data": {
      "text/plain": [
       "MLPClassifier(activation='logistic', alpha=0.0001, batch_size='auto',\n",
       "              beta_1=0.9, beta_2=0.999, early_stopping=False, epsilon=1e-08,\n",
       "              hidden_layer_sizes=(100,), learning_rate='constant',\n",
       "              learning_rate_init=0.001, max_iter=200, momentum=0.9,\n",
       "              n_iter_no_change=10, nesterovs_momentum=True, power_t=0.5,\n",
       "              random_state=42, shuffle=True, solver='lbfgs', tol=0.0001,\n",
       "              validation_fraction=0.1, verbose=False, warm_start=False)"
      ]
     },
     "execution_count": 37,
     "metadata": {},
     "output_type": "execute_result"
    }
   ],
   "source": [
    "from sklearn.neural_network import MLPClassifier\n",
    "mlp_model = MLPClassifier(hidden_layer_sizes = (100,), solver = 'lbfgs', \n",
    "                          activation = 'logistic', random_state = 42)\n",
    "mlp_model.fit(X_train, y_train)"
   ]
  },
  {
   "cell_type": "code",
   "execution_count": 38,
   "metadata": {},
   "outputs": [
    {
     "name": "stdout",
     "output_type": "stream",
     "text": [
      "0.2576346638967206 0.2621702098192646\n"
     ]
    }
   ],
   "source": [
    "y_train_pred = mlp_model.predict(X_train)\n",
    "y_test_pred = mlp_model.predict(X_test)\n",
    "print(np.mean(y_train != y_train_pred), np.mean(y_test != y_test_pred))"
   ]
  },
  {
   "cell_type": "code",
   "execution_count": 39,
   "metadata": {},
   "outputs": [],
   "source": [
    "err_mlp_train = []\n",
    "err_mlp_test = []"
   ]
  },
  {
   "cell_type": "code",
   "execution_count": 43,
   "metadata": {},
   "outputs": [
    {
     "name": "stdout",
     "output_type": "stream",
     "text": [
      "120 0.2579017658406292 0.2622740807423309\n",
      "130 0.25804273631102537 0.2621702098192646\n",
      "140 0.25810951179700253 0.26270687625510697\n",
      "150 0.25788692684374537 0.26230870438335296\n"
     ]
    }
   ],
   "source": [
    "for n in range(120, 160, 10):\n",
    "    mlp_model = MLPClassifier(hidden_layer_sizes = (n,), solver = 'lbfgs', \n",
    "                          activation = 'logistic', random_state = 42)\n",
    "    mlp_model.fit(X_train, y_train)\n",
    "    \n",
    "    err_train = np.mean(y_train != mlp_model.predict(X_train))\n",
    "    err_test  = np.mean(y_test  != mlp_model.predict(X_test))\n",
    "    \n",
    "    err_mlp_train.append(err_train)\n",
    "    err_mlp_test.append(err_test)\n",
    "    \n",
    "    print(n, err_train, err_test)"
   ]
  },
  {
   "cell_type": "code",
   "execution_count": 44,
   "metadata": {},
   "outputs": [
    {
     "data": {
      "text/plain": [
       "<matplotlib.legend.Legend at 0x7f277adaa278>"
      ]
     },
     "execution_count": 44,
     "metadata": {},
     "output_type": "execute_result"
    },
    {
     "data": {
      "image/png": "[encoded data removed]",
      "text/plain": [
       "<Figure size 432x288 with 1 Axes>"
      ]
     },
     "metadata": {
      "needs_background": "light"
     },
     "output_type": "display_data"
    }
   ],
   "source": [
    "plt.plot(range(10, 160, 10), err_mlp_train, label='err_mlp_train')\n",
    "plt.plot(range(10, 160, 10), err_mlp_test, label='err_mlp_test')\n",
    "plt.xlabel('hidden_layer_size')\n",
    "plt.ylabel('err_mlp')\n",
    "plt.legend()"
   ]
  },
  {
   "cell_type": "code",
   "execution_count": null,
   "metadata": {},
   "outputs": [],
   "source": []
  },
  {
   "cell_type": "markdown",
   "metadata": {},
   "source": [
    "> При размере скрытого слоя, равном 110, ошибка на тестовых данных минимальна"
   ]
  },
  {
   "cell_type": "code",
   "execution_count": 49,
   "metadata": {},
   "outputs": [],
   "source": [
    "alpha_arr = np.logspace(-3, 2, 21)\n",
    "err_mlp_alpha_train = []\n",
    "err_mlp_alpha_test = []"
   ]
  },
  {
   "cell_type": "code",
   "execution_count": 50,
   "metadata": {},
   "outputs": [
    {
     "name": "stdout",
     "output_type": "stream",
     "text": [
      "150 0.25779047336400057 0.2619797797936431\n",
      "150 0.2579759608250482 0.2618759088705768\n",
      "150 0.257760795370233 0.26223945710130875\n",
      "150 0.25777563436711676 0.26222214528079774\n",
      "150 0.257916604837513 0.2622913925628419\n",
      "150 0.2577682148686749 0.26218752163977566\n",
      "150 0.2578275708562101 0.2622740807423309\n",
      "150 0.25784982935153583 0.26222214528079774\n",
      "150 0.25796112182816444 0.2624818225884634\n",
      "150 0.2579462828312806 0.26208365071670936\n",
      "150 0.2578201513577682 0.2623606398448861\n",
      "150 0.2579017658406292 0.26230870438335296\n",
      "150 0.25786466834841965 0.262326016203864\n",
      "150 0.25762724439827867 0.26222214528079774\n",
      "150 0.2579462828312806 0.2620144034346652\n",
      "150 0.2582133847751892 0.26220483346028667\n",
      "150 0.258072414304793 0.2620490270756873\n",
      "150 0.258228223772073 0.2621009625372204\n",
      "150 0.25852500370974923 0.2627934353576622\n",
      "150 0.25856210120195877 0.26281074717817327\n",
      "150 0.25897017361626357 0.2634166608960598\n"
     ]
    }
   ],
   "source": [
    "for alpha in alpha_arr:\n",
    "    mlp_model = MLPClassifier(alpha = alpha, hidden_layer_sizes = (110,), \n",
    "                              solver = 'lbfgs', activation = 'logistic', random_state = 42)\n",
    "    mlp_model.fit(X_train, y_train)\n",
    "\n",
    "    err_train = np.mean(y_train != mlp_model.predict(X_train))\n",
    "    err_test  = np.mean(y_test  != mlp_model.predict(X_test))\n",
    "    \n",
    "    err_mlp_alpha_train.append(err_train)\n",
    "    err_mlp_alpha_test.append(err_test)\n",
    "    \n",
    "    print(alpha, err_train, err_test)"
   ]
  },
  {
   "cell_type": "code",
   "execution_count": 52,
   "metadata": {},
   "outputs": [
    {
     "data": {
      "image/png": "[encoded data removed]",
      "text/plain": [
       "<Figure size 432x288 with 1 Axes>"
      ]
     },
     "metadata": {
      "needs_background": "light"
     },
     "output_type": "display_data"
    }
   ],
   "source": [
    "plt.semilogx(alpha_arr, err_mlp_alpha_train, 'b-o', label = 'test')\n",
    "plt.semilogx(alpha_arr, err_mlp_alpha_test, 'r-o', label = 'train')\n",
    "plt.xlim([np.max(alpha_arr), np.min(alpha_arr)])\n",
    "plt.title('Error vs. alpha')\n",
    "plt.xlabel('alpha')\n",
    "plt.ylabel('error')\n",
    "plt.legend()\n",
    "pass"
   ]
  },
  {
   "cell_type": "markdown",
   "metadata": {},
   "source": [
    "> Минимальная ошибка:"
   ]
  },
  {
   "cell_type": "code",
   "execution_count": 53,
   "metadata": {},
   "outputs": [
    {
     "name": "stdout",
     "output_type": "stream",
     "text": [
      "0.25762724439827867 0.2618759088705768\n"
     ]
    }
   ],
   "source": [
    "min_train_err = np.min(err_mlp_alpha_train)\n",
    "min_test_err = np.min(err_mlp_alpha_test)\n",
    "print(min_train_err, min_test_err)"
   ]
  },
  {
   "cell_type": "markdown",
   "metadata": {},
   "source": [
    "> Оптимальное значение alpha"
   ]
  },
  {
   "cell_type": "code",
   "execution_count": 56,
   "metadata": {},
   "outputs": [
    {
     "name": "stdout",
     "output_type": "stream",
     "text": [
      "[0.00177828]\n"
     ]
    }
   ],
   "source": [
    "alpha_opt = alpha_arr[err_mlp_alpha_test == min_test_err]\n",
    "print(alpha_opt)\n",
    "alpha_opt = alpha_opt[0]"
   ]
  },
  {
   "cell_type": "markdown",
   "metadata": {},
   "source": [
    "## Random Forest Classifier"
   ]
  },
  {
   "cell_type": "code",
   "execution_count": 39,
   "metadata": {},
   "outputs": [
    {
     "data": {
      "text/plain": [
       "RandomForestClassifier(bootstrap=True, ccp_alpha=0.0, class_weight=None,\n",
       "                       criterion='gini', max_depth=None, max_features='auto',\n",
       "                       max_leaf_nodes=None, max_samples=None,\n",
       "                       min_impurity_decrease=0.0, min_impurity_split=None,\n",
       "                       min_samples_leaf=1, min_samples_split=2,\n",
       "                       min_weight_fraction_leaf=0.0, n_estimators=1000,\n",
       "                       n_jobs=None, oob_score=True, random_state=None,\n",
       "                       verbose=0, warm_start=False)"
      ]
     },
     "execution_count": 39,
     "metadata": {},
     "output_type": "execute_result"
    }
   ],
   "source": [
    "from sklearn.ensemble import RandomForestClassifier\n",
    "random_forest_model = RandomForestClassifier(n_estimators=1000, oob_score=True)\n",
    "random_forest_model.fit(X_train, y_train)"
   ]
  },
  {
   "cell_type": "code",
   "execution_count": 40,
   "metadata": {},
   "outputs": [
    {
     "name": "stdout",
     "output_type": "stream",
     "text": [
      "0.0133699361923134 0.2770410636382522\n"
     ]
    }
   ],
   "source": [
    "y_train_pred = random_forest_model.predict(X_train)\n",
    "y_test_pred = random_forest_model.predict(X_test)\n",
    "print(np.mean(y_train != y_train_pred), np.mean(y_test != y_test_pred))"
   ]
  },
  {
   "cell_type": "code",
   "execution_count": 41,
   "metadata": {},
   "outputs": [],
   "source": [
    "err_rfc_train = []\n",
    "err_rfc_test = []\n",
    "err_rfc_oob = []"
   ]
  },
  {
   "cell_type": "code",
   "execution_count": 42,
   "metadata": {},
   "outputs": [
    {
     "name": "stdout",
     "output_type": "stream",
     "text": [
      "100 0.013399614186081021 0.27885880479191194 0.2793292773408518\n",
      "200 0.0133699361923134 0.2785471920227131 0.2771256863036059\n",
      "300 0.0133699361923134 0.27747385915102835 0.27676955037839446\n",
      "400 0.0133699361923134 0.27747385915102835 0.27625018548746105\n",
      "500 0.0133699361923134 0.2779239664843155 0.2761017955186229\n",
      "600 0.0133699361923134 0.2775777300740946 0.275864371568482\n",
      "700 0.0133699361923134 0.27775084827920504 0.27639115595785724\n",
      "800 0.0133699361923134 0.2774392355100062 0.2759830835435525\n",
      "900 0.0133699361923134 0.27752579461256144 0.2758940495622496\n",
      "1000 0.0133699361923134 0.2771968700228516 0.27595340554978487\n",
      "1100 0.0133699361923134 0.27764697735613875 0.27561210862145724\n",
      "1200 0.0133699361923134 0.2771795582023406 0.27561210862145724\n",
      "1300 0.0133699361923134 0.27721418184336266 0.2758124350793887\n",
      "1400 0.0133699361923134 0.2779239664843155 0.2757530790918534\n",
      "1500 0.0133699361923134 0.27759504189460565 0.27535242617599054\n"
     ]
    }
   ],
   "source": [
    "random_forest_model = RandomForestClassifier(oob_score=True)\n",
    "for n in range(100, 1600, 100):\n",
    "    random_forest_model.set_params(n_estimators=n)\n",
    "    random_forest_model.fit(X_train, y_train)\n",
    "    \n",
    "    err_train = np.mean(y_train != random_forest_model.predict(X_train))\n",
    "    err_test  = np.mean(y_test  != random_forest_model.predict(X_test))\n",
    "    err_oob = 1 - random_forest_model.oob_score_\n",
    "    \n",
    "    err_rfc_train.append(err_train)\n",
    "    err_rfc_test.append(err_test)\n",
    "    err_rfc_oob.append(err_oob)\n",
    "    \n",
    "    print(n, err_train, err_test, err_oob)"
   ]
  },
  {
   "cell_type": "code",
   "execution_count": 43,
   "metadata": {},
   "outputs": [
    {
     "data": {
      "text/plain": [
       "<matplotlib.legend.Legend at 0x16e07501048>"
      ]
     },
     "execution_count": 43,
     "metadata": {},
     "output_type": "execute_result"
    },
    {
     "data": {
      "image/png": "[encoded data removed]",
      "text/plain": [
       "<Figure size 432x288 with 1 Axes>"
      ]
     },
     "metadata": {
      "needs_background": "light"
     },
     "output_type": "display_data"
    }
   ],
   "source": [
    "plt.plot(range(100, 1600, 100), err_rfc_train, label='err_rfc_train')\n",
    "plt.plot(range(100, 1600, 100), err_rfc_test, label='err_rfc_test')\n",
    "plt.plot(range(100, 1600, 100), err_rfc_oob, label='err_rfc_oob')\n",
    "plt.xlabel('n_estimators')\n",
    "plt.ylabel('err_rfc')\n",
    "plt.legend()"
   ]
  },
  {
   "cell_type": "markdown",
   "metadata": {},
   "source": [
    "> Минимальная ошибка:"
   ]
  },
  {
   "cell_type": "code",
   "execution_count": 45,
   "metadata": {},
   "outputs": [
    {
     "name": "stdout",
     "output_type": "stream",
     "text": [
      "0.0133699361923134 0.2771795582023406\n"
     ]
    }
   ],
   "source": [
    "min_train_err = np.min(err_rfc_train)\n",
    "min_test_err = np.min(err_rfc_test)\n",
    "print(min_train_err, min_test_err)"
   ]
  },
  {
   "cell_type": "markdown",
   "metadata": {},
   "source": [
    "## Gradient Boosting Classifier"
   ]
  },
  {
   "cell_type": "code",
   "execution_count": 49,
   "metadata": {},
   "outputs": [
    {
     "data": {
      "text/plain": [
       "GradientBoostingClassifier(ccp_alpha=0.0, criterion='friedman_mse', init=None,\n",
       "                           learning_rate=0.1, loss='deviance', max_depth=3,\n",
       "                           max_features=None, max_leaf_nodes=None,\n",
       "                           min_impurity_decrease=0.0, min_impurity_split=None,\n",
       "                           min_samples_leaf=1, min_samples_split=2,\n",
       "                           min_weight_fraction_leaf=0.0, n_estimators=1000,\n",
       "                           n_iter_no_change=None, presort='deprecated',\n",
       "                           random_state=None, subsample=1.0, tol=0.0001,\n",
       "                           validation_fraction=0.1, verbose=0,\n",
       "                           warm_start=False)"
      ]
     },
     "execution_count": 49,
     "metadata": {},
     "output_type": "execute_result"
    }
   ],
   "source": [
    "from sklearn.ensemble import GradientBoostingClassifier\n",
    "gradient_boosting_model = GradientBoostingClassifier(n_estimators=1000)\n",
    "gradient_boosting_model.fit(X_train, y_train)"
   ]
  },
  {
   "cell_type": "code",
   "execution_count": 50,
   "metadata": {},
   "outputs": [
    {
     "name": "stdout",
     "output_type": "stream",
     "text": [
      "0.25020032645793144 0.2620317152551762\n"
     ]
    }
   ],
   "source": [
    "y_train_pred = gradient_boosting_model.predict(X_train)\n",
    "y_test_pred = gradient_boosting_model.predict(X_test)\n",
    "print(np.mean(y_train != y_train_pred), np.mean(y_test != y_test_pred))"
   ]
  },
  {
   "cell_type": "code",
   "execution_count": 51,
   "metadata": {},
   "outputs": [],
   "source": [
    "err_gbc_train = []\n",
    "err_gbc_test = []"
   ]
  },
  {
   "cell_type": "code",
   "execution_count": 52,
   "metadata": {},
   "outputs": [
    {
     "name": "stdout",
     "output_type": "stream",
     "text": [
      "10 0.2609585991986942 0.26511321930614223\n",
      "20 0.2589256566256121 0.2635205318191261\n",
      "30 0.2579240243359549 0.26249913440897443\n",
      "40 0.25745659593411485 0.26249913440897443\n",
      "50 0.25730820596527676 0.2621528979987536\n",
      "60 0.25714497699955485 0.26173741430648845\n",
      "70 0.2571152990057872 0.2616681670244443\n",
      "80 0.2570856210120196 0.2614431133578007\n",
      "90 0.2569891675322748 0.2614777369988228\n",
      "100 0.2569149725478558 0.261546984280867\n",
      "110 0.25672948508680815 0.26156429610137805\n",
      "120 0.2565588366226443 0.26173741430648845\n",
      "130 0.25646980264134145 0.26170279066546637\n",
      "140 0.25638076866003856 0.26168547884495535\n",
      "150 0.25623237869120047 0.26168547884495535\n"
     ]
    }
   ],
   "source": [
    "gradient_boosting_model = GradientBoostingClassifier()\n",
    "for n in range(10, 160, 10):\n",
    "    gradient_boosting_model.set_params(n_estimators=n)\n",
    "    gradient_boosting_model.fit(X_train, y_train)\n",
    "    \n",
    "    err_train = np.mean(y_train != gradient_boosting_model.predict(X_train))\n",
    "    err_test  = np.mean(y_test  != gradient_boosting_model.predict(X_test))\n",
    "    \n",
    "    err_gbc_train.append(err_train)\n",
    "    err_gbc_test.append(err_test)\n",
    "    \n",
    "    print(n, err_train, err_test)"
   ]
  },
  {
   "cell_type": "code",
   "execution_count": 53,
   "metadata": {},
   "outputs": [
    {
     "data": {
      "text/plain": [
       "<matplotlib.legend.Legend at 0x16e11df3c88>"
      ]
     },
     "execution_count": 53,
     "metadata": {},
     "output_type": "execute_result"
    },
    {
     "data": {
      "image/png": "[encoded data removed]",
      "text/plain": [
       "<Figure size 432x288 with 1 Axes>"
      ]
     },
     "metadata": {
      "needs_background": "light"
     },
     "output_type": "display_data"
    }
   ],
   "source": [
    "plt.plot(range(10, 160, 10), err_rfc_train, label='err_gbc_train')\n",
    "plt.plot(range(10, 160, 10), err_rfc_test, label='err_gbc_test')\n",
    "plt.xlabel('n_estimators')\n",
    "plt.ylabel('err_gbc')\n",
    "plt.legend()"
   ]
  },
  {
   "cell_type": "markdown",
   "metadata": {},
   "source": [
    "> Минимальная ошибка:"
   ]
  },
  {
   "cell_type": "code",
   "execution_count": 54,
   "metadata": {},
   "outputs": [
    {
     "name": "stdout",
     "output_type": "stream",
     "text": [
      "0.25623237869120047 0.2614431133578007\n"
     ]
    }
   ],
   "source": [
    "min_train_err = np.min(err_gbc_train)\n",
    "min_test_err = np.min(err_gbc_test)\n",
    "print(min_train_err, min_test_err)"
   ]
  },
  {
   "cell_type": "code",
   "execution_count": null,
   "metadata": {},
   "outputs": [],
   "source": []
  }
 ],
 "metadata": {
  "kernelspec": {
   "display_name": "Python 3",
   "language": "python",
   "name": "python3"
  },
  "language_info": {
   "codemirror_mode": {
    "name": "ipython",
    "version": 3
   },
   "file_extension": ".py",
   "mimetype": "text/x-python",
   "name": "python",
   "nbconvert_exporter": "python",
   "pygments_lexer": "ipython3",
   "version": "3.7.1"
  }
 },
 "nbformat": 4,
 "nbformat_minor": 2
}
